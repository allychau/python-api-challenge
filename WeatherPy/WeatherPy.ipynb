{
 "cells": [
  {
   "cell_type": "markdown",
   "metadata": {},
   "source": [
    "# WeatherPy\n",
    "----\n",
    "\n",
    "#### Note\n",
    "* Instructions have been included for each segment. You do not have to follow them exactly, but they are included to help you think through the steps."
   ]
  },
  {
   "cell_type": "code",
   "execution_count": 202,
   "metadata": {
    "scrolled": true
   },
   "outputs": [],
   "source": [
    "# Dependencies and Setup\n",
    "import matplotlib.pyplot as plt\n",
    "import pandas as pd\n",
    "import numpy as np\n",
    "import requests\n",
    "import time\n",
    "from scipy.stats import linregress\n",
    "\n",
    "# Import API key\n",
    "from api_keys import weather_api_key\n",
    "\n",
    "# Incorporated citipy to determine city based on latitude and longitude\n",
    "from citipy import citipy\n",
    "\n",
    "from pprint import pprint\n",
    "#import datetime\n",
    "import os\n",
    "import csv\n",
    "\n",
    "\n",
    "# Output File (CSV)\n",
    "output_data_file = \"output_data/cities.csv\"\n",
    "\n",
    "# Range of latitudes and longitudes\n",
    "lat_range = (-90, 90)\n",
    "lng_range = (-180, 180)"
   ]
  },
  {
   "cell_type": "markdown",
   "metadata": {},
   "source": [
    "## Generate Cities List"
   ]
  },
  {
   "cell_type": "code",
   "execution_count": 203,
   "metadata": {},
   "outputs": [
    {
     "data": {
      "text/plain": [
       "622"
      ]
     },
     "execution_count": 203,
     "metadata": {},
     "output_type": "execute_result"
    }
   ],
   "source": [
    "# List for holding lat_lngs and cities\n",
    "lat_lngs = []\n",
    "cities = []\n",
    "\n",
    "# Create a set of random lat and lng combinations\n",
    "lats = np.random.uniform(lat_range[0], lat_range[1], size=1500)\n",
    "lngs = np.random.uniform(lng_range[0], lng_range[1], size=1500)\n",
    "lat_lngs = zip(lats, lngs)\n",
    "\n",
    "# Identify nearest city for each lat, lng combination\n",
    "for lat_lng in lat_lngs:\n",
    "    city = citipy.nearest_city(lat_lng[0], lat_lng[1]).city_name\n",
    "    \n",
    "    # If the city is unique, then add it to a our cities list\n",
    "    if city not in cities:\n",
    "        cities.append(city)\n",
    "\n",
    "# Print the city count to confirm sufficient count\n",
    "len(cities)"
   ]
  },
  {
   "cell_type": "markdown",
   "metadata": {},
   "source": [
    "### Perform API Calls\n",
    "* Perform a weather check on each city using a series of successive API calls.\n",
    "* Include a print log of each city as it'sbeing processed (with the city number and city name).\n"
   ]
  },
  {
   "cell_type": "code",
   "execution_count": 204,
   "metadata": {},
   "outputs": [
    {
     "data": {
      "text/plain": [
       "'http://api.openweathermap.org/data/2.5/weather?appid=8ef7960e4b4ab5cd6cc11c76b8226720&units=metric&q='"
      ]
     },
     "execution_count": 204,
     "metadata": {},
     "output_type": "execute_result"
    }
   ],
   "source": [
    "#api.openweathermap.org/data/2.5/weather?lat={lat}&lon={lon}&appid={your api key}\n",
    "# Save config information.\n",
    "url = \"http://api.openweathermap.org/data/2.5/weather?\"\n",
    "units = \"metric\"\n",
    "\n",
    "# Build partial query URL\n",
    "query_url = f\"{url}appid={weather_api_key}&units={units}&q=\"\n",
    "query_url\n",
    "        \n",
    "        "
   ]
  },
  {
   "cell_type": "code",
   "execution_count": 205,
   "metadata": {},
   "outputs": [
    {
     "name": "stdout",
     "output_type": "stream",
     "text": [
      "{'base': 'stations',\n",
      " 'clouds': {'all': 20},\n",
      " 'cod': 200,\n",
      " 'coord': {'lat': 5.41, 'lon': 100.34},\n",
      " 'dt': 1595392523,\n",
      " 'id': 1735106,\n",
      " 'main': {'feels_like': 33.61,\n",
      "          'humidity': 83,\n",
      "          'pressure': 1010,\n",
      "          'temp': 28.47,\n",
      "          'temp_max': 29,\n",
      "          'temp_min': 27.78},\n",
      " 'name': 'George Town',\n",
      " 'sys': {'country': 'MY',\n",
      "         'id': 9429,\n",
      "         'sunrise': 1595373201,\n",
      "         'sunset': 1595417789,\n",
      "         'type': 1},\n",
      " 'timezone': 28800,\n",
      " 'visibility': 7000,\n",
      " 'weather': [{'description': 'few clouds',\n",
      "              'icon': '02d',\n",
      "              'id': 801,\n",
      "              'main': 'Clouds'}],\n",
      " 'wind': {'deg': 270, 'speed': 2.1}}\n"
     ]
    }
   ],
   "source": [
    "response = requests.get(query_url +'georgetown').json()\n",
    "#response\n",
    "pprint(response)"
   ]
  },
  {
   "cell_type": "code",
   "execution_count": 206,
   "metadata": {},
   "outputs": [
    {
     "name": "stdout",
     "output_type": "stream",
     "text": [
      "Beginning Data Retrieval\n",
      "--------------------------\n",
      "City not found. Skipping...\n",
      "Processing Record 1| ixtapa\n",
      "Processing Record 2| esperance\n",
      "Processing Record 3| mtimbira\n",
      "Processing Record 4| rikitea\n",
      "Processing Record 5| tasiilaq\n",
      "Processing Record 6| constitucion\n",
      "Processing Record 7| pevek\n",
      "Processing Record 8| te anau\n",
      "Processing Record 9| atuona\n",
      "Processing Record 10| airai\n",
      "Processing Record 11| hornepayne\n",
      "Processing Record 12| baraboo\n",
      "Processing Record 13| ilulissat\n",
      "Processing Record 14| huangmei\n",
      "Processing Record 15| svetlaya\n",
      "Processing Record 16| ushuaia\n",
      "Processing Record 17| pacific grove\n",
      "Processing Record 18| okhotsk\n",
      "Processing Record 19| zhanakorgan\n",
      "Processing Record 20| inongo\n",
      "Processing Record 21| severo-kurilsk\n",
      "Processing Record 22| pisco\n",
      "Processing Record 23| grindavik\n",
      "Processing Record 24| pathein\n",
      "Processing Record 25| east london\n",
      "Processing Record 26| georgetown\n",
      "Processing Record 27| bluff\n",
      "Processing Record 28| caravelas\n",
      "Processing Record 29| muzhi\n",
      "City not found. Skipping...\n",
      "Processing Record 30| hobart\n",
      "Processing Record 31| luderitz\n",
      "Processing Record 32| mount gambier\n",
      "Processing Record 33| castro\n",
      "Processing Record 34| baoshan\n",
      "Processing Record 35| buala\n",
      "City not found. Skipping...\n",
      "Processing Record 36| mahebourg\n",
      "Processing Record 37| provideniya\n",
      "Processing Record 38| hilo\n",
      "Processing Record 39| sao filipe\n",
      "Processing Record 40| ribeira grande\n",
      "City not found. Skipping...\n",
      "Processing Record 41| butaritari\n",
      "Processing Record 42| presidencia roque saenz pena\n",
      "Processing Record 43| tupik\n",
      "Processing Record 44| kapaa\n",
      "Processing Record 45| barrow\n",
      "Processing Record 46| antofagasta\n",
      "Processing Record 47| poddorye\n",
      "Processing Record 48| katsuura\n",
      "Processing Record 49| jinchang\n",
      "Processing Record 50| albany\n",
      "Processing Record 51| punta arenas\n",
      "Processing Record 52| playa vicente\n",
      "Processing Record 53| hithadhoo\n",
      "Processing Record 54| nikolskoye\n",
      "Processing Record 55| kaitangata\n",
      "Processing Record 56| chuzhou\n",
      "Processing Record 57| saint george\n",
      "Processing Record 58| port hedland\n",
      "Processing Record 59| samarai\n",
      "Processing Record 60| atbasar\n",
      "Processing Record 61| busselton\n",
      "Processing Record 62| port alfred\n",
      "Processing Record 63| arraial do cabo\n",
      "Processing Record 64| isangel\n",
      "Processing Record 65| salamiyah\n",
      "Processing Record 66| south sioux city\n",
      "Processing Record 67| haines junction\n",
      "Processing Record 68| mataura\n",
      "Processing Record 69| mount isa\n",
      "Processing Record 70| ossora\n",
      "Processing Record 71| bandarbeyla\n",
      "Processing Record 72| asau\n",
      "Processing Record 73| havre-saint-pierre\n",
      "Processing Record 74| klaksvik\n",
      "Processing Record 75| upernavik\n",
      "Processing Record 76| vilyuysk\n",
      "Processing Record 77| zhezkazgan\n",
      "Processing Record 78| bethel\n",
      "Processing Record 79| leopold\n",
      "City not found. Skipping...\n",
      "Processing Record 80| yakeshi\n",
      "Processing Record 81| saskylakh\n",
      "Processing Record 82| bereda\n",
      "Processing Record 83| souillac\n",
      "Processing Record 84| carnarvon\n",
      "Processing Record 85| vestmanna\n",
      "Processing Record 86| longyearbyen\n",
      "Processing Record 87| walvis bay\n",
      "Processing Record 88| hofn\n",
      "Processing Record 89| lata\n",
      "Processing Record 90| mayo\n",
      "Processing Record 91| kruisfontein\n",
      "Processing Record 92| yulara\n",
      "City not found. Skipping...\n",
      "City not found. Skipping...\n",
      "Processing Record 93| cidreira\n",
      "Processing Record 94| jalu\n",
      "City not found. Skipping...\n",
      "Processing Record 95| amahai\n",
      "Processing Record 96| bredasdorp\n",
      "Processing Record 97| vanavara\n",
      "Processing Record 98| bambous virieux\n",
      "Processing Record 99| daphne\n",
      "Processing Record 100| victoria\n",
      "Processing Record 101| jamestown\n",
      "Processing Record 102| clyde river\n",
      "Processing Record 103| avera\n",
      "Processing Record 104| myatlevo\n",
      "Processing Record 105| tuktoyaktuk\n",
      "Processing Record 106| boysun\n",
      "Processing Record 107| vao\n",
      "Processing Record 108| adrar\n",
      "Processing Record 109| yellowknife\n",
      "Processing Record 110| hirara\n",
      "Processing Record 111| cape town\n",
      "Processing Record 112| new norfolk\n",
      "Processing Record 113| stromness\n",
      "Processing Record 114| brigantine\n",
      "Processing Record 115| camana\n",
      "Processing Record 116| cabo san lucas\n",
      "Processing Record 117| oussouye\n",
      "Processing Record 118| bibbiena\n",
      "City not found. Skipping...\n",
      "Processing Record 119| inhambane\n",
      "Processing Record 120| hermanus\n",
      "Processing Record 121| portland\n",
      "Processing Record 122| taonan\n",
      "Processing Record 123| eureka\n",
      "Processing Record 124| madang\n",
      "Processing Record 125| vaini\n",
      "Processing Record 126| khatanga\n",
      "Processing Record 127| fare\n",
      "Processing Record 128| vernon\n",
      "Processing Record 129| san patricio\n",
      "Processing Record 130| collie\n",
      "Processing Record 131| rocha\n",
      "Processing Record 132| cervo\n",
      "Processing Record 133| kurchum\n",
      "Processing Record 134| lompoc\n",
      "Processing Record 135| rivers\n",
      "Processing Record 136| mar del plata\n",
      "Processing Record 137| sotouboua\n",
      "City not found. Skipping...\n",
      "Processing Record 138| brae\n",
      "Processing Record 139| almeirim\n",
      "Processing Record 140| fairbanks\n",
      "Processing Record 141| diego de almagro\n",
      "Processing Record 142| lamu\n",
      "Processing Record 143| pak phanang\n",
      "Processing Record 144| venado tuerto\n",
      "Processing Record 145| poya\n",
      "Processing Record 146| kavieng\n",
      "Processing Record 147| port elizabeth\n",
      "Processing Record 148| dharampuri\n",
      "Processing Record 149| galbshtadt\n",
      "City not found. Skipping...\n",
      "Processing Record 150| tabou\n",
      "Processing Record 151| kloulklubed\n",
      "Processing Record 152| chokurdakh\n",
      "Processing Record 153| baraki barak\n",
      "Processing Record 154| hasaki\n",
      "Processing Record 155| yarada\n",
      "Processing Record 156| tabas\n",
      "Processing Record 157| krasnoselkup\n",
      "Processing Record 158| bambanglipuro\n",
      "City not found. Skipping...\n",
      "Processing Record 159| turayf\n",
      "Processing Record 160| dali\n",
      "Processing Record 161| biak\n",
      "Processing Record 162| san jeronimo\n",
      "City not found. Skipping...\n",
      "Processing Record 163| moron\n",
      "Processing Record 164| ponta do sol\n",
      "Processing Record 165| vardo\n",
      "Processing Record 166| cap-aux-meules\n",
      "Processing Record 167| tromso\n",
      "Processing Record 168| qaanaaq\n",
      "Processing Record 169| marzuq\n",
      "Processing Record 170| mosquera\n",
      "Processing Record 171| faya\n",
      "Processing Record 172| devils lake\n",
      "Processing Record 173| sigli\n",
      "Processing Record 174| barrancabermeja\n",
      "Processing Record 175| mortka\n",
      "Processing Record 176| naberera\n",
      "Processing Record 177| bulembu\n",
      "Processing Record 178| nicolas bravo\n",
      "Processing Record 179| mahajanga\n",
      "City not found. Skipping...\n",
      "Processing Record 180| hervey bay\n",
      "Processing Record 181| mora\n",
      "Processing Record 182| goundam\n",
      "Processing Record 183| andra\n",
      "Processing Record 184| berezovyy\n",
      "Processing Record 185| bahia blanca\n",
      "City not found. Skipping...\n",
      "Processing Record 186| lebu\n",
      "Processing Record 187| arlit\n",
      "Processing Record 188| fortuna\n",
      "Processing Record 189| mareeba\n",
      "Processing Record 190| barra dos coqueiros\n",
      "Processing Record 191| songjianghe\n",
      "Processing Record 192| saint-philippe\n",
      "Processing Record 193| tuatapere\n",
      "Processing Record 194| chuy\n",
      "Processing Record 195| antalaha\n",
      "Processing Record 196| cherskiy\n",
      "Processing Record 197| bourail\n",
      "Processing Record 198| berlevag\n",
      "City not found. Skipping...\n",
      "Processing Record 199| dikson\n",
      "Processing Record 200| morrope\n",
      "Processing Record 201| kungurtug\n",
      "Processing Record 202| codrington\n",
      "Processing Record 203| teguldet\n",
      "Processing Record 204| puerto ayora\n",
      "City not found. Skipping...\n",
      "Processing Record 205| namatanai\n",
      "Processing Record 206| najran\n",
      "Processing Record 207| marienburg\n",
      "Processing Record 208| port shepstone\n",
      "Processing Record 209| ramos arizpe\n",
      "Processing Record 210| salta\n",
      "Processing Record 211| champerico\n",
      "Processing Record 212| southbridge\n",
      "Processing Record 213| umm lajj\n",
      "Processing Record 214| tecoanapa\n",
      "Processing Record 215| basco\n",
      "City not found. Skipping...\n",
      "Processing Record 216| mezen\n",
      "Processing Record 217| ayr\n",
      "Processing Record 218| hay river\n",
      "Processing Record 219| glomfjord\n",
      "Processing Record 220| viedma\n",
      "Processing Record 221| mogadishu\n",
      "Processing Record 222| aguimes\n",
      "Processing Record 223| yumen\n",
      "Processing Record 224| altay\n",
      "Processing Record 225| ardakan\n",
      "Processing Record 226| tianpeng\n",
      "Processing Record 227| sechura\n",
      "Processing Record 228| muroto\n",
      "Processing Record 229| tooele\n",
      "Processing Record 230| korla\n",
      "Processing Record 231| hami\n",
      "Processing Record 232| westport\n",
      "Processing Record 233| humaita\n",
      "City not found. Skipping...\n",
      "Processing Record 234| saint-pierre\n",
      "Processing Record 235| pangody\n",
      "Processing Record 236| bilibino\n",
      "Processing Record 237| avarua\n",
      "Processing Record 238| suez\n",
      "Processing Record 239| bohicon\n"
     ]
    },
    {
     "name": "stdout",
     "output_type": "stream",
     "text": [
      "Processing Record 240| dingle\n",
      "Processing Record 241| iwanai\n",
      "City not found. Skipping...\n",
      "Processing Record 242| hare bay\n",
      "Processing Record 243| emerald\n",
      "City not found. Skipping...\n",
      "Processing Record 244| acajutla\n",
      "City not found. Skipping...\n",
      "Processing Record 245| vostok\n",
      "City not found. Skipping...\n",
      "Processing Record 246| horsham\n",
      "Processing Record 247| bilma\n",
      "Processing Record 248| nuevo progreso\n",
      "Processing Record 249| nioro\n",
      "Processing Record 250| atar\n",
      "Processing Record 251| sola\n",
      "Processing Record 252| leninogorsk\n",
      "Processing Record 253| solnechnyy\n",
      "Processing Record 254| padang\n",
      "Processing Record 255| hovd\n",
      "Processing Record 256| santo domingo\n",
      "Processing Record 257| jiexiu\n",
      "Processing Record 258| karasuk\n",
      "Processing Record 259| lagunas\n",
      "Processing Record 260| koslan\n",
      "Processing Record 261| ambon\n",
      "Processing Record 262| rio gallegos\n",
      "Processing Record 263| sitka\n",
      "Processing Record 264| port lincoln\n",
      "Processing Record 265| itarema\n",
      "Processing Record 266| oxapampa\n",
      "Processing Record 267| rosarito\n",
      "City not found. Skipping...\n",
      "Processing Record 268| namibe\n",
      "Processing Record 269| saint-joseph\n",
      "Processing Record 270| ravar\n",
      "Processing Record 271| norman wells\n",
      "Processing Record 272| thompson\n",
      "Processing Record 273| tutoia\n",
      "City not found. Skipping...\n",
      "Processing Record 274| meulaboh\n",
      "Processing Record 275| beringovskiy\n",
      "Processing Record 276| laguna\n",
      "Processing Record 277| grand forks\n",
      "Processing Record 278| nouadhibou\n",
      "City not found. Skipping...\n",
      "Processing Record 279| talnakh\n",
      "Processing Record 280| honiara\n",
      "City not found. Skipping...\n",
      "City not found. Skipping...\n",
      "Processing Record 281| stornoway\n",
      "City not found. Skipping...\n",
      "City not found. Skipping...\n",
      "Processing Record 282| goderich\n",
      "Processing Record 283| santa cruz\n",
      "Processing Record 284| paidha\n",
      "Processing Record 285| krasnovishersk\n",
      "Processing Record 286| praia\n",
      "Processing Record 287| nanortalik\n",
      "Processing Record 288| kodiak\n",
      "Processing Record 289| salalah\n",
      "Processing Record 290| peniche\n",
      "Processing Record 291| leningradskiy\n",
      "Processing Record 292| coronado\n",
      "Processing Record 293| kyabram\n",
      "City not found. Skipping...\n",
      "Processing Record 294| bengkulu\n",
      "Processing Record 295| faanui\n",
      "Processing Record 296| thinadhoo\n",
      "Processing Record 297| bubaque\n",
      "Processing Record 298| aswan\n",
      "Processing Record 299| dabakala\n",
      "Processing Record 300| abu samrah\n",
      "Processing Record 301| zhuanghe\n",
      "Processing Record 302| moju\n",
      "Processing Record 303| novaya bryan\n",
      "Processing Record 304| ballina\n",
      "Processing Record 305| chapais\n",
      "Processing Record 306| simpang\n",
      "Processing Record 307| pudozh\n",
      "Processing Record 308| torbay\n",
      "Processing Record 309| miri\n",
      "Processing Record 310| helena\n",
      "Processing Record 311| sengiley\n",
      "Processing Record 312| tevaitoa\n",
      "Processing Record 313| lahan\n",
      "Processing Record 314| vila velha\n",
      "Processing Record 315| binzhou\n",
      "Processing Record 316| abha\n",
      "Processing Record 317| husavik\n",
      "Processing Record 318| jumla\n",
      "Processing Record 319| verkhnevilyuysk\n",
      "Processing Record 320| muros\n",
      "Processing Record 321| kholodnyy\n",
      "Processing Record 322| batagay-alyta\n",
      "Processing Record 323| kibala\n",
      "Processing Record 324| paamiut\n",
      "Processing Record 325| ocos\n",
      "Processing Record 326| kupino\n",
      "Processing Record 327| tanout\n",
      "Processing Record 328| joao pinheiro\n",
      "Processing Record 329| chimoio\n",
      "Processing Record 330| aykhal\n",
      "Processing Record 331| san cristobal\n",
      "Processing Record 332| xichang\n",
      "Processing Record 333| lavrentiya\n",
      "Processing Record 334| sulangan\n",
      "Processing Record 335| marabba\n",
      "Processing Record 336| kirakira\n",
      "Processing Record 337| marystown\n",
      "Processing Record 338| mirnyy\n",
      "City not found. Skipping...\n",
      "Processing Record 339| uusikaupunki\n",
      "Processing Record 340| krasnyy chikoy\n",
      "Processing Record 341| babu\n",
      "Processing Record 342| half moon bay\n",
      "Processing Record 343| papetoai\n",
      "Processing Record 344| tiksi\n",
      "Processing Record 345| ostrovnoy\n",
      "Processing Record 346| cubuk\n",
      "City not found. Skipping...\n",
      "Processing Record 347| tura\n",
      "Processing Record 348| rehoboth\n",
      "Processing Record 349| belyy yar\n",
      "Processing Record 350| ouesso\n",
      "Processing Record 351| kiunga\n",
      "Processing Record 352| berea\n",
      "Processing Record 353| honningsvag\n",
      "Processing Record 354| merauke\n",
      "Processing Record 355| beckley\n",
      "Processing Record 356| flinders\n",
      "Processing Record 357| baruun-urt\n",
      "Processing Record 358| asfi\n",
      "Processing Record 359| north bend\n",
      "Processing Record 360| qabaqcol\n",
      "Processing Record 361| hamilton\n",
      "Processing Record 362| dunedin\n",
      "Processing Record 363| broome\n",
      "Processing Record 364| bathsheba\n",
      "Processing Record 365| abu kamal\n",
      "Processing Record 366| saldanha\n",
      "Processing Record 367| quatre cocos\n",
      "Processing Record 368| sinegorye\n",
      "Processing Record 369| christchurch\n",
      "Processing Record 370| belmonte\n",
      "Processing Record 371| copiapo\n",
      "Processing Record 372| amari\n",
      "Processing Record 373| douglas\n",
      "Processing Record 374| kaeo\n",
      "Processing Record 375| alofi\n",
      "Processing Record 376| guymon\n",
      "Processing Record 377| kieta\n",
      "Processing Record 378| nishihara\n",
      "City not found. Skipping...\n",
      "Processing Record 379| linjiang\n",
      "Processing Record 380| vila\n",
      "Processing Record 381| kudahuvadhoo\n",
      "Processing Record 382| roald\n",
      "Processing Record 383| kralendijk\n",
      "Processing Record 384| acarau\n",
      "Processing Record 385| touros\n",
      "Processing Record 386| ilave\n",
      "Processing Record 387| smithers\n",
      "Processing Record 388| tilichiki\n",
      "Processing Record 389| guerrero negro\n",
      "Processing Record 390| new bern\n",
      "Processing Record 391| kalmunai\n",
      "Processing Record 392| ivanovka\n",
      "Processing Record 393| benguela\n",
      "Processing Record 394| launceston\n",
      "Processing Record 395| kavali\n",
      "City not found. Skipping...\n",
      "Processing Record 396| comodoro rivadavia\n",
      "Processing Record 397| capao bonito\n",
      "Processing Record 398| nabire\n",
      "Processing Record 399| da nang\n",
      "Processing Record 400| matamoros\n",
      "Processing Record 401| hvolsvollur\n",
      "Processing Record 402| gimli\n",
      "Processing Record 403| ola\n",
      "Processing Record 404| saint-augustin\n",
      "Processing Record 405| ancud\n",
      "Processing Record 406| camacha\n",
      "Processing Record 407| kushima\n",
      "Processing Record 408| olivenza\n",
      "Processing Record 409| thunder bay\n",
      "Processing Record 410| west wendover\n",
      "Processing Record 411| sao joao da barra\n",
      "Processing Record 412| dolores\n",
      "Processing Record 413| acapulco\n",
      "Processing Record 414| evensk\n",
      "Processing Record 415| la mira\n",
      "Processing Record 416| pecos\n",
      "Processing Record 417| helong\n",
      "Processing Record 418| maragogi\n",
      "Processing Record 419| kahului\n",
      "Processing Record 420| caxias\n",
      "Processing Record 421| ndele\n",
      "Processing Record 422| parsabad\n",
      "Processing Record 423| jijiga\n",
      "Processing Record 424| derzhavinsk\n",
      "Processing Record 425| lulea\n",
      "Processing Record 426| blois\n",
      "Processing Record 427| peace river\n",
      "Processing Record 428| ponta delgada\n",
      "Processing Record 429| kendari\n",
      "Processing Record 430| coihaique\n",
      "Processing Record 431| bongaree\n",
      "Processing Record 432| deputatskiy\n",
      "Processing Record 433| puerto madero\n",
      "Processing Record 434| peterhead\n",
      "Processing Record 435| la ronge\n",
      "Processing Record 436| matagami\n",
      "City not found. Skipping...\n",
      "Processing Record 437| broken hill\n",
      "Processing Record 438| abilene\n",
      "Processing Record 439| kill\n",
      "Processing Record 440| kamenka\n",
      "Processing Record 441| takoradi\n",
      "Processing Record 442| sambava\n",
      "Processing Record 443| sur\n",
      "Processing Record 444| morant bay\n",
      "Processing Record 445| entre rios\n",
      "Processing Record 446| sakakah\n",
      "Processing Record 447| porosozero\n",
      "Processing Record 448| zemio\n",
      "Processing Record 449| wanning\n",
      "City not found. Skipping...\n",
      "City not found. Skipping...\n",
      "Processing Record 450| kampong chhnang\n",
      "Processing Record 451| chara\n",
      "Processing Record 452| aklavik\n",
      "Processing Record 453| mponela\n",
      "Processing Record 454| kidal\n",
      "Processing Record 455| lagoa\n",
      "Processing Record 456| gamba\n",
      "Processing Record 457| lakatoro\n",
      "Processing Record 458| cantagallo\n",
      "Processing Record 459| sinop\n",
      "Processing Record 460| qaqortoq\n",
      "Processing Record 461| la rioja\n",
      "Processing Record 462| shimoda\n",
      "Processing Record 463| de panne\n",
      "Processing Record 464| geraldton\n",
      "Processing Record 465| columbus\n",
      "Processing Record 466| satrikh\n",
      "Processing Record 467| bonthe\n",
      "Processing Record 468| oromocto\n",
      "Processing Record 469| bisauli\n",
      "Processing Record 470| fort nelson\n",
      "Processing Record 471| beloha\n",
      "Processing Record 472| tashara\n",
      "Processing Record 473| komsomolskiy\n",
      "Processing Record 474| clarence town\n",
      "Processing Record 475| sabha\n",
      "Processing Record 476| ust-kulom\n",
      "Processing Record 477| kawalu\n",
      "Processing Record 478| kokopo\n",
      "Processing Record 479| yerofey pavlovich\n",
      "Processing Record 480| palmer\n"
     ]
    },
    {
     "name": "stdout",
     "output_type": "stream",
     "text": [
      "Processing Record 481| xacmaz\n",
      "Processing Record 482| puerto escondido\n",
      "Processing Record 483| cabedelo\n",
      "Processing Record 484| san quintin\n",
      "Processing Record 485| vestmannaeyjar\n",
      "Processing Record 486| kaka\n",
      "Processing Record 487| sijunjung\n",
      "Processing Record 488| nome\n",
      "Processing Record 489| sangar\n",
      "Processing Record 490| iskateley\n",
      "Processing Record 491| churapcha\n",
      "Processing Record 492| mogzon\n",
      "Processing Record 493| chapleau\n",
      "Processing Record 494| menongue\n",
      "Processing Record 495| srednekolymsk\n",
      "Processing Record 496| debre birhan\n",
      "Processing Record 497| kozhva\n",
      "Processing Record 498| simnas\n",
      "Processing Record 499| aleksandriyskaya\n",
      "Processing Record 500| penzance\n",
      "Processing Record 501| katherine\n",
      "Processing Record 502| soller\n",
      "Processing Record 503| aranos\n",
      "Processing Record 504| cap malheureux\n",
      "Processing Record 505| suntar\n",
      "Processing Record 506| alexandria\n",
      "Processing Record 507| olafsvik\n",
      "Processing Record 508| porto belo\n",
      "Processing Record 509| bridlington\n",
      "Processing Record 510| san vicente\n",
      "Processing Record 511| koson\n",
      "Processing Record 512| milkovo\n",
      "Processing Record 513| xining\n",
      "Processing Record 514| naqadeh\n",
      "Processing Record 515| amos\n",
      "City not found. Skipping...\n",
      "City not found. Skipping...\n",
      "Processing Record 516| isla vista\n",
      "Processing Record 517| andapa\n",
      "Processing Record 518| tumaco\n",
      "Processing Record 519| ternate\n",
      "Processing Record 520| san jose de guanipa\n",
      "City not found. Skipping...\n",
      "Processing Record 521| palmas\n",
      "Processing Record 522| terme\n",
      "Processing Record 523| colwyn bay\n",
      "Processing Record 524| coquimbo\n",
      "Processing Record 525| leeton\n",
      "Processing Record 526| gornopravdinsk\n",
      "Processing Record 527| karpogory\n",
      "Processing Record 528| kutum\n",
      "Processing Record 529| sunrise manor\n",
      "Processing Record 530| marechal deodoro\n",
      "Processing Record 531| san carlos\n",
      "Processing Record 532| harper\n",
      "Processing Record 533| ulaanbaatar\n",
      "Processing Record 534| narsaq\n",
      "Processing Record 535| los llanos de aridane\n",
      "Processing Record 536| havoysund\n",
      "Processing Record 537| guaymas\n",
      "Processing Record 538| the valley\n",
      "Processing Record 539| plettenberg bay\n",
      "Processing Record 540| dinghai\n",
      "Processing Record 541| ukiah\n",
      "City not found. Skipping...\n",
      "Processing Record 542| dakar\n",
      "Processing Record 543| pundaguitan\n",
      "Processing Record 544| alice springs\n",
      "Processing Record 545| axim\n",
      "Processing Record 546| paita\n",
      "Processing Record 547| kununurra\n",
      "Processing Record 548| villazon\n",
      "Processing Record 549| armeria\n",
      "Processing Record 550| bushenyi\n",
      "City not found. Skipping...\n",
      "Processing Record 551| kiama\n",
      "Processing Record 552| luangwa\n",
      "Processing Record 553| khovu-aksy\n",
      "Processing Record 554| anadyr\n",
      "Processing Record 555| taree\n",
      "Processing Record 556| clifton\n",
      "Processing Record 557| kyzyl-suu\n",
      "Processing Record 558| ketchikan\n",
      "Processing Record 559| nesbyen\n",
      "Processing Record 560| petropavlovsk-kamchatskiy\n",
      "Processing Record 561| shihezi\n",
      "Processing Record 562| daru\n",
      "Processing Record 563| abu dhabi\n",
      "Processing Record 564| los andes\n",
      "Processing Record 565| igarka\n",
      "Processing Record 566| tiznit\n",
      "Processing Record 567| fort-shevchenko\n",
      "Processing Record 568| mayya\n",
      "Processing Record 569| buraydah\n",
      "Processing Record 570| techiman\n",
      "Processing Record 571| bundaberg\n",
      "Processing Record 572| zahirabad\n",
      "Processing Record 573| falam\n",
      "Processing Record 574| pangnirtung\n",
      "Processing Record 575| mahanoro\n",
      "Processing Record 576| kyshtovka\n",
      "Processing Record 577| kavaratti\n",
      "Processing Record 578| pangkalanbuun\n",
      "Processing Record 579| sorong\n"
     ]
    }
   ],
   "source": [
    "# set up lists to hold reponse info\n",
    "\n",
    "record_count = 1\n",
    "#count_city = []\n",
    "city_weather_data = []\n",
    "print('Beginning Data Retrieval')\n",
    "print('--------------------------')\n",
    "# Loop through the list of cities and perform a request for data on each\n",
    "for city in cities:\n",
    "    response = requests.get(query_url + city).json()\n",
    "    try:\n",
    "        city_name = response['name']\n",
    "        city_country=response['sys']['country']\n",
    "        city_lat = response['coord']['lat']\n",
    "        city_lon = response['coord']['lon']\n",
    "        city_max_temp = response['main']['temp_max']\n",
    "        city_humidity = response['main']['humidity']\n",
    "        city_cloudiness = response['clouds']['all']\n",
    "        city_wind_speed = response['wind']['speed']\n",
    "        city_date = response['dt']\n",
    "        #city_date = datetime.utcfromtimestamp(response[\"dt\"]).strftime('%Y-%m-%d %H:%M:%S')\n",
    "        \n",
    "        #Data dictionary of weather data\n",
    "        city_weather_data.append({'City':city_name, \n",
    "                          'Country': city_country, \n",
    "                          'Latitude': city_lat, \n",
    "                          'Longitude': city_lon,\n",
    "                          'Max Temperature': city_max_temp,\n",
    "                          'Humidity': city_humidity, \n",
    "                          'Cloudiness': city_cloudiness, \n",
    "                          'Wind Speed': city_wind_speed,\n",
    "                          'Date': city_date})\n",
    "        \n",
    "        \n",
    "        print(f'Processing Record {record_count}| {city}')\n",
    "        record_count+= 1\n",
    "    except:\n",
    "        print(f'City not found. Skipping...')\n",
    "        \n"
   ]
  },
  {
   "cell_type": "markdown",
   "metadata": {},
   "source": [
    "### Convert Raw Data to DataFrame\n",
    "* Export the city data into a .csv.\n",
    "* Display the DataFrame"
   ]
  },
  {
   "cell_type": "code",
   "execution_count": 208,
   "metadata": {},
   "outputs": [],
   "source": [
    "# Open the file using \"write\" mode. Specify the variable to hold the contents\n",
    "with open(output_data_file, 'w') as csvfile:\n",
    "    # Initialize csv.writer\n",
    "    csvwriter = csv.writer(csvfile, delimiter=',')\n",
    "    # Write the first row (column headers)\n",
    "    csvwriter.writerows([city_weather_data])"
   ]
  },
  {
   "cell_type": "code",
   "execution_count": 209,
   "metadata": {},
   "outputs": [
    {
     "data": {
      "text/html": [
       "<div>\n",
       "<style scoped>\n",
       "    .dataframe tbody tr th:only-of-type {\n",
       "        vertical-align: middle;\n",
       "    }\n",
       "\n",
       "    .dataframe tbody tr th {\n",
       "        vertical-align: top;\n",
       "    }\n",
       "\n",
       "    .dataframe thead th {\n",
       "        text-align: right;\n",
       "    }\n",
       "</style>\n",
       "<table border=\"1\" class=\"dataframe\">\n",
       "  <thead>\n",
       "    <tr style=\"text-align: right;\">\n",
       "      <th></th>\n",
       "      <th>City</th>\n",
       "      <th>Country</th>\n",
       "      <th>Latitude</th>\n",
       "      <th>Longitude</th>\n",
       "      <th>Max Temperature</th>\n",
       "      <th>Humidity</th>\n",
       "      <th>Cloudiness</th>\n",
       "      <th>Wind Speed</th>\n",
       "      <th>Date</th>\n",
       "    </tr>\n",
       "  </thead>\n",
       "  <tbody>\n",
       "    <tr>\n",
       "      <th>0</th>\n",
       "      <td>Ixtapa</td>\n",
       "      <td>MX</td>\n",
       "      <td>20.70</td>\n",
       "      <td>-105.20</td>\n",
       "      <td>29.00</td>\n",
       "      <td>79</td>\n",
       "      <td>75</td>\n",
       "      <td>1.50</td>\n",
       "      <td>1595392758</td>\n",
       "    </tr>\n",
       "    <tr>\n",
       "      <th>1</th>\n",
       "      <td>Esperance</td>\n",
       "      <td>AU</td>\n",
       "      <td>-33.87</td>\n",
       "      <td>121.90</td>\n",
       "      <td>18.00</td>\n",
       "      <td>55</td>\n",
       "      <td>0</td>\n",
       "      <td>7.70</td>\n",
       "      <td>1595392653</td>\n",
       "    </tr>\n",
       "    <tr>\n",
       "      <th>2</th>\n",
       "      <td>Mtimbira</td>\n",
       "      <td>TZ</td>\n",
       "      <td>-8.78</td>\n",
       "      <td>36.35</td>\n",
       "      <td>21.69</td>\n",
       "      <td>57</td>\n",
       "      <td>94</td>\n",
       "      <td>1.20</td>\n",
       "      <td>1595392758</td>\n",
       "    </tr>\n",
       "    <tr>\n",
       "      <th>3</th>\n",
       "      <td>Rikitea</td>\n",
       "      <td>PF</td>\n",
       "      <td>-23.12</td>\n",
       "      <td>-134.97</td>\n",
       "      <td>19.19</td>\n",
       "      <td>64</td>\n",
       "      <td>15</td>\n",
       "      <td>8.30</td>\n",
       "      <td>1595392759</td>\n",
       "    </tr>\n",
       "    <tr>\n",
       "      <th>4</th>\n",
       "      <td>Tasiilaq</td>\n",
       "      <td>GL</td>\n",
       "      <td>65.61</td>\n",
       "      <td>-37.64</td>\n",
       "      <td>6.00</td>\n",
       "      <td>81</td>\n",
       "      <td>100</td>\n",
       "      <td>1.45</td>\n",
       "      <td>1595392759</td>\n",
       "    </tr>\n",
       "    <tr>\n",
       "      <th>5</th>\n",
       "      <td>Constitución</td>\n",
       "      <td>CL</td>\n",
       "      <td>-35.33</td>\n",
       "      <td>-72.42</td>\n",
       "      <td>9.53</td>\n",
       "      <td>81</td>\n",
       "      <td>88</td>\n",
       "      <td>3.67</td>\n",
       "      <td>1595392759</td>\n",
       "    </tr>\n",
       "    <tr>\n",
       "      <th>6</th>\n",
       "      <td>Pevek</td>\n",
       "      <td>RU</td>\n",
       "      <td>69.70</td>\n",
       "      <td>170.31</td>\n",
       "      <td>11.50</td>\n",
       "      <td>57</td>\n",
       "      <td>94</td>\n",
       "      <td>2.00</td>\n",
       "      <td>1595392759</td>\n",
       "    </tr>\n",
       "    <tr>\n",
       "      <th>7</th>\n",
       "      <td>Te Anau</td>\n",
       "      <td>NZ</td>\n",
       "      <td>-45.42</td>\n",
       "      <td>167.72</td>\n",
       "      <td>6.07</td>\n",
       "      <td>86</td>\n",
       "      <td>98</td>\n",
       "      <td>3.11</td>\n",
       "      <td>1595392759</td>\n",
       "    </tr>\n",
       "    <tr>\n",
       "      <th>8</th>\n",
       "      <td>Atuona</td>\n",
       "      <td>PF</td>\n",
       "      <td>-9.80</td>\n",
       "      <td>-139.03</td>\n",
       "      <td>26.60</td>\n",
       "      <td>77</td>\n",
       "      <td>11</td>\n",
       "      <td>8.76</td>\n",
       "      <td>1595392618</td>\n",
       "    </tr>\n",
       "    <tr>\n",
       "      <th>9</th>\n",
       "      <td>Airai</td>\n",
       "      <td>TL</td>\n",
       "      <td>-8.93</td>\n",
       "      <td>125.41</td>\n",
       "      <td>22.36</td>\n",
       "      <td>52</td>\n",
       "      <td>2</td>\n",
       "      <td>2.41</td>\n",
       "      <td>1595392760</td>\n",
       "    </tr>\n",
       "  </tbody>\n",
       "</table>\n",
       "</div>"
      ],
      "text/plain": [
       "           City Country  Latitude  Longitude  Max Temperature  Humidity  \\\n",
       "0        Ixtapa      MX     20.70    -105.20            29.00        79   \n",
       "1     Esperance      AU    -33.87     121.90            18.00        55   \n",
       "2      Mtimbira      TZ     -8.78      36.35            21.69        57   \n",
       "3       Rikitea      PF    -23.12    -134.97            19.19        64   \n",
       "4      Tasiilaq      GL     65.61     -37.64             6.00        81   \n",
       "5  Constitución      CL    -35.33     -72.42             9.53        81   \n",
       "6         Pevek      RU     69.70     170.31            11.50        57   \n",
       "7       Te Anau      NZ    -45.42     167.72             6.07        86   \n",
       "8        Atuona      PF     -9.80    -139.03            26.60        77   \n",
       "9         Airai      TL     -8.93     125.41            22.36        52   \n",
       "\n",
       "   Cloudiness  Wind Speed        Date  \n",
       "0          75        1.50  1595392758  \n",
       "1           0        7.70  1595392653  \n",
       "2          94        1.20  1595392758  \n",
       "3          15        8.30  1595392759  \n",
       "4         100        1.45  1595392759  \n",
       "5          88        3.67  1595392759  \n",
       "6          94        2.00  1595392759  \n",
       "7          98        3.11  1595392759  \n",
       "8          11        8.76  1595392618  \n",
       "9           2        2.41  1595392760  "
      ]
     },
     "execution_count": 209,
     "metadata": {},
     "output_type": "execute_result"
    }
   ],
   "source": [
    "#Convert weather data dictionary into a Data Frame\n",
    "cities_df = pd.DataFrame(city_weather_data)\n",
    "#cities_df = cities_df[['City','Country','Latitude','Max Temperature', 'Humidity','Cloudiness', 'Wind Speed']]\n",
    "cities_df.head(10)"
   ]
  },
  {
   "cell_type": "code",
   "execution_count": 210,
   "metadata": {},
   "outputs": [],
   "source": [
    "#type(city_date)\n",
    "#Convert an integer time stamp date to a string format date '%Y-%m-%d %H:%M:%S' in Coordinated Universal Time.\n",
    "#Not sure why it is datetime.dateime might have to global and local import datetime module\n",
    "city_date = datetime.datetime.utcfromtimestamp(city_date).strftime('%m/%d/%y')\n",
    "#cities_df['Date'] = city_date"
   ]
  },
  {
   "cell_type": "code",
   "execution_count": 211,
   "metadata": {
    "scrolled": true
   },
   "outputs": [
    {
     "data": {
      "text/plain": [
       "City               579\n",
       "Country            579\n",
       "Latitude           579\n",
       "Longitude          579\n",
       "Max Temperature    579\n",
       "Humidity           579\n",
       "Cloudiness         579\n",
       "Wind Speed         579\n",
       "Date               579\n",
       "dtype: int64"
      ]
     },
     "execution_count": 211,
     "metadata": {},
     "output_type": "execute_result"
    }
   ],
   "source": [
    "cities_df.count()"
   ]
  },
  {
   "cell_type": "markdown",
   "metadata": {},
   "source": [
    "## Inspect the data and remove the cities where the humidity > 100%.\n",
    "----\n",
    "Skip this step if there are no cities that have humidity > 100%. "
   ]
  },
  {
   "cell_type": "code",
   "execution_count": null,
   "metadata": {},
   "outputs": [],
   "source": []
  },
  {
   "cell_type": "code",
   "execution_count": 212,
   "metadata": {},
   "outputs": [
    {
     "data": {
      "text/plain": [
       "Int64Index([], dtype='int64')"
      ]
     },
     "execution_count": 212,
     "metadata": {},
     "output_type": "execute_result"
    }
   ],
   "source": [
    "#  Get the indices of cities that have humidity over 100%.\n",
    "\n",
    "#create variable with True if humidity > 100\n",
    "humidity_indx = cities_df[cities_df['Humidity'] > 100].index\n",
    "humidity_indx  "
   ]
  },
  {
   "cell_type": "code",
   "execution_count": 213,
   "metadata": {},
   "outputs": [
    {
     "data": {
      "text/html": [
       "<div>\n",
       "<style scoped>\n",
       "    .dataframe tbody tr th:only-of-type {\n",
       "        vertical-align: middle;\n",
       "    }\n",
       "\n",
       "    .dataframe tbody tr th {\n",
       "        vertical-align: top;\n",
       "    }\n",
       "\n",
       "    .dataframe thead th {\n",
       "        text-align: right;\n",
       "    }\n",
       "</style>\n",
       "<table border=\"1\" class=\"dataframe\">\n",
       "  <thead>\n",
       "    <tr style=\"text-align: right;\">\n",
       "      <th></th>\n",
       "      <th>City</th>\n",
       "      <th>Country</th>\n",
       "      <th>Latitude</th>\n",
       "      <th>Longitude</th>\n",
       "      <th>Max Temperature</th>\n",
       "      <th>Humidity</th>\n",
       "      <th>Cloudiness</th>\n",
       "      <th>Wind Speed</th>\n",
       "      <th>Date</th>\n",
       "    </tr>\n",
       "  </thead>\n",
       "  <tbody>\n",
       "    <tr>\n",
       "      <th>0</th>\n",
       "      <td>Ixtapa</td>\n",
       "      <td>MX</td>\n",
       "      <td>20.70</td>\n",
       "      <td>-105.20</td>\n",
       "      <td>29.00</td>\n",
       "      <td>79</td>\n",
       "      <td>75</td>\n",
       "      <td>1.50</td>\n",
       "      <td>1595392758</td>\n",
       "    </tr>\n",
       "    <tr>\n",
       "      <th>1</th>\n",
       "      <td>Esperance</td>\n",
       "      <td>AU</td>\n",
       "      <td>-33.87</td>\n",
       "      <td>121.90</td>\n",
       "      <td>18.00</td>\n",
       "      <td>55</td>\n",
       "      <td>0</td>\n",
       "      <td>7.70</td>\n",
       "      <td>1595392653</td>\n",
       "    </tr>\n",
       "    <tr>\n",
       "      <th>2</th>\n",
       "      <td>Mtimbira</td>\n",
       "      <td>TZ</td>\n",
       "      <td>-8.78</td>\n",
       "      <td>36.35</td>\n",
       "      <td>21.69</td>\n",
       "      <td>57</td>\n",
       "      <td>94</td>\n",
       "      <td>1.20</td>\n",
       "      <td>1595392758</td>\n",
       "    </tr>\n",
       "    <tr>\n",
       "      <th>3</th>\n",
       "      <td>Rikitea</td>\n",
       "      <td>PF</td>\n",
       "      <td>-23.12</td>\n",
       "      <td>-134.97</td>\n",
       "      <td>19.19</td>\n",
       "      <td>64</td>\n",
       "      <td>15</td>\n",
       "      <td>8.30</td>\n",
       "      <td>1595392759</td>\n",
       "    </tr>\n",
       "    <tr>\n",
       "      <th>4</th>\n",
       "      <td>Tasiilaq</td>\n",
       "      <td>GL</td>\n",
       "      <td>65.61</td>\n",
       "      <td>-37.64</td>\n",
       "      <td>6.00</td>\n",
       "      <td>81</td>\n",
       "      <td>100</td>\n",
       "      <td>1.45</td>\n",
       "      <td>1595392759</td>\n",
       "    </tr>\n",
       "  </tbody>\n",
       "</table>\n",
       "</div>"
      ],
      "text/plain": [
       "        City Country  Latitude  Longitude  Max Temperature  Humidity  \\\n",
       "0     Ixtapa      MX     20.70    -105.20            29.00        79   \n",
       "1  Esperance      AU    -33.87     121.90            18.00        55   \n",
       "2   Mtimbira      TZ     -8.78      36.35            21.69        57   \n",
       "3    Rikitea      PF    -23.12    -134.97            19.19        64   \n",
       "4   Tasiilaq      GL     65.61     -37.64             6.00        81   \n",
       "\n",
       "   Cloudiness  Wind Speed        Date  \n",
       "0          75        1.50  1595392758  \n",
       "1           0        7.70  1595392653  \n",
       "2          94        1.20  1595392758  \n",
       "3          15        8.30  1595392759  \n",
       "4         100        1.45  1595392759  "
      ]
     },
     "execution_count": 213,
     "metadata": {},
     "output_type": "execute_result"
    }
   ],
   "source": [
    "# Make a new DataFrame equal to the city data to drop all humidity outliers by index.\n",
    "# Passing \"inplace=False\" will make a copy of the city_data DataFrame, which we call \"clean_city_data\".\n",
    "\n",
    "city_data_new = cities_df.drop(humidity_indx,inplace=False)\n",
    "city_data_new.head()\n"
   ]
  },
  {
   "cell_type": "code",
   "execution_count": 214,
   "metadata": {
    "scrolled": true
   },
   "outputs": [
    {
     "data": {
      "text/html": [
       "<div>\n",
       "<style scoped>\n",
       "    .dataframe tbody tr th:only-of-type {\n",
       "        vertical-align: middle;\n",
       "    }\n",
       "\n",
       "    .dataframe tbody tr th {\n",
       "        vertical-align: top;\n",
       "    }\n",
       "\n",
       "    .dataframe thead th {\n",
       "        text-align: right;\n",
       "    }\n",
       "</style>\n",
       "<table border=\"1\" class=\"dataframe\">\n",
       "  <thead>\n",
       "    <tr style=\"text-align: right;\">\n",
       "      <th></th>\n",
       "      <th>Latitude</th>\n",
       "      <th>Longitude</th>\n",
       "      <th>Max Temperature</th>\n",
       "      <th>Humidity</th>\n",
       "      <th>Cloudiness</th>\n",
       "      <th>Wind Speed</th>\n",
       "      <th>Date</th>\n",
       "    </tr>\n",
       "  </thead>\n",
       "  <tbody>\n",
       "    <tr>\n",
       "      <th>count</th>\n",
       "      <td>579.000000</td>\n",
       "      <td>579.000000</td>\n",
       "      <td>579.000000</td>\n",
       "      <td>579.000000</td>\n",
       "      <td>579.000000</td>\n",
       "      <td>579.000000</td>\n",
       "      <td>5.790000e+02</td>\n",
       "    </tr>\n",
       "    <tr>\n",
       "      <th>mean</th>\n",
       "      <td>20.817668</td>\n",
       "      <td>21.020553</td>\n",
       "      <td>20.662263</td>\n",
       "      <td>69.379965</td>\n",
       "      <td>48.452504</td>\n",
       "      <td>3.439775</td>\n",
       "      <td>1.595393e+09</td>\n",
       "    </tr>\n",
       "    <tr>\n",
       "      <th>std</th>\n",
       "      <td>33.710809</td>\n",
       "      <td>91.803425</td>\n",
       "      <td>7.521740</td>\n",
       "      <td>20.715256</td>\n",
       "      <td>38.054628</td>\n",
       "      <td>2.235898</td>\n",
       "      <td>1.957248e+02</td>\n",
       "    </tr>\n",
       "    <tr>\n",
       "      <th>min</th>\n",
       "      <td>-54.800000</td>\n",
       "      <td>-175.200000</td>\n",
       "      <td>-7.000000</td>\n",
       "      <td>3.000000</td>\n",
       "      <td>0.000000</td>\n",
       "      <td>0.110000</td>\n",
       "      <td>1.595392e+09</td>\n",
       "    </tr>\n",
       "    <tr>\n",
       "      <th>25%</th>\n",
       "      <td>-7.730000</td>\n",
       "      <td>-63.040000</td>\n",
       "      <td>15.480000</td>\n",
       "      <td>58.000000</td>\n",
       "      <td>5.500000</td>\n",
       "      <td>1.790000</td>\n",
       "      <td>1.595393e+09</td>\n",
       "    </tr>\n",
       "    <tr>\n",
       "      <th>50%</th>\n",
       "      <td>26.280000</td>\n",
       "      <td>25.970000</td>\n",
       "      <td>21.110000</td>\n",
       "      <td>74.000000</td>\n",
       "      <td>43.000000</td>\n",
       "      <td>3.100000</td>\n",
       "      <td>1.595393e+09</td>\n",
       "    </tr>\n",
       "    <tr>\n",
       "      <th>75%</th>\n",
       "      <td>49.245000</td>\n",
       "      <td>102.390000</td>\n",
       "      <td>26.670000</td>\n",
       "      <td>85.000000</td>\n",
       "      <td>90.000000</td>\n",
       "      <td>4.600000</td>\n",
       "      <td>1.595393e+09</td>\n",
       "    </tr>\n",
       "    <tr>\n",
       "      <th>max</th>\n",
       "      <td>78.220000</td>\n",
       "      <td>179.320000</td>\n",
       "      <td>38.000000</td>\n",
       "      <td>100.000000</td>\n",
       "      <td>100.000000</td>\n",
       "      <td>13.900000</td>\n",
       "      <td>1.595393e+09</td>\n",
       "    </tr>\n",
       "  </tbody>\n",
       "</table>\n",
       "</div>"
      ],
      "text/plain": [
       "         Latitude   Longitude  Max Temperature    Humidity  Cloudiness  \\\n",
       "count  579.000000  579.000000       579.000000  579.000000  579.000000   \n",
       "mean    20.817668   21.020553        20.662263   69.379965   48.452504   \n",
       "std     33.710809   91.803425         7.521740   20.715256   38.054628   \n",
       "min    -54.800000 -175.200000        -7.000000    3.000000    0.000000   \n",
       "25%     -7.730000  -63.040000        15.480000   58.000000    5.500000   \n",
       "50%     26.280000   25.970000        21.110000   74.000000   43.000000   \n",
       "75%     49.245000  102.390000        26.670000   85.000000   90.000000   \n",
       "max     78.220000  179.320000        38.000000  100.000000  100.000000   \n",
       "\n",
       "       Wind Speed          Date  \n",
       "count  579.000000  5.790000e+02  \n",
       "mean     3.439775  1.595393e+09  \n",
       "std      2.235898  1.957248e+02  \n",
       "min      0.110000  1.595392e+09  \n",
       "25%      1.790000  1.595393e+09  \n",
       "50%      3.100000  1.595393e+09  \n",
       "75%      4.600000  1.595393e+09  \n",
       "max     13.900000  1.595393e+09  "
      ]
     },
     "execution_count": 214,
     "metadata": {},
     "output_type": "execute_result"
    }
   ],
   "source": [
    "city_data_new.describe()"
   ]
  },
  {
   "cell_type": "code",
   "execution_count": 215,
   "metadata": {},
   "outputs": [],
   "source": [
    "# Extract relevant fields from the data frame\n",
    "\n",
    "\n",
    "# Export the City_Data into a csv\n",
    "city_data_new.to_csv(\"./output_data/city_data2.csv\",encoding='utf-8', index=False)\n"
   ]
  },
  {
   "cell_type": "markdown",
   "metadata": {},
   "source": [
    "## Plotting the Data\n",
    "* Use proper labeling of the plots using plot titles (including date of analysis) and axes labels.\n",
    "* Save the plotted figures as .pngs."
   ]
  },
  {
   "cell_type": "markdown",
   "metadata": {},
   "source": [
    "## Latitude vs. Temperature Plot"
   ]
  },
  {
   "cell_type": "code",
   "execution_count": 217,
   "metadata": {
    "scrolled": true
   },
   "outputs": [
    {
     "data": {
      "image/png": "[encoded data removed]",
      "text/plain": [
       "<Figure size 432x288 with 1 Axes>"
      ]
     },
     "metadata": {
      "needs_background": "light"
     },
     "output_type": "display_data"
    }
   ],
   "source": [
    "city_data_new.plot(kind='scatter', x='Latitude', y='Max Temperature', c='purple')\n",
    "plt.title('City Latitude vs Max Temperature {})'.format(city_date))\n",
    "plt.xlabel('Latitude')\n",
    "plt.ylabel('Max Temperature (F)')\n",
    "plt.savefig('Images/LatitudeVsTemperature.png')\n"
   ]
  },
  {
   "cell_type": "markdown",
   "metadata": {},
   "source": [
    "## Latitude vs. Humidity Plot"
   ]
  },
  {
   "cell_type": "code",
   "execution_count": 219,
   "metadata": {},
   "outputs": [
    {
     "data": {
      "image/png": "[encoded data removed]",
      "text/plain": [
       "<Figure size 432x288 with 1 Axes>"
      ]
     },
     "metadata": {
      "needs_background": "light"
     },
     "output_type": "display_data"
    }
   ],
   "source": [
    "city_data_new.plot(kind='scatter', x='Latitude', y='Humidity', c='purple')\n",
    "plt.title('City Latitude vs Humidity {})'.format(city_date))\n",
    "plt.xlabel('Latitude')\n",
    "plt.ylabel('Humidity (%)')\n",
    "plt.savefig('Images/LatitudeVsHumidity.png')"
   ]
  },
  {
   "cell_type": "markdown",
   "metadata": {},
   "source": [
    "## Latitude vs. Cloudiness Plot"
   ]
  },
  {
   "cell_type": "code",
   "execution_count": 220,
   "metadata": {},
   "outputs": [
    {
     "data": {
      "image/png": "[encoded data removed]",
      "text/plain": [
       "<Figure size 432x288 with 1 Axes>"
      ]
     },
     "metadata": {
      "needs_background": "light"
     },
     "output_type": "display_data"
    }
   ],
   "source": [
    "city_data_new.plot(kind='scatter', x='Latitude', y='Cloudiness', c='purple')\n",
    "plt.title('City Latitude vs Cloudiness {})'.format(city_date))\n",
    "plt.xlabel('Latitude')\n",
    "plt.ylabel('Cloudiness (%)')\n",
    "plt.savefig('Images/LatitudeVsCloudiness.png')"
   ]
  },
  {
   "cell_type": "markdown",
   "metadata": {},
   "source": [
    "## Latitude vs. Wind Speed Plot"
   ]
  },
  {
   "cell_type": "code",
   "execution_count": 221,
   "metadata": {},
   "outputs": [
    {
     "data": {
      "image/png": "[encoded data removed]",
      "text/plain": [
       "<Figure size 432x288 with 1 Axes>"
      ]
     },
     "metadata": {
      "needs_background": "light"
     },
     "output_type": "display_data"
    }
   ],
   "source": [
    "city_data_new.plot(kind='scatter', x='Latitude', y='Wind Speed', c='purple')\n",
    "plt.title('City Latitude vs Wind Speed {})'.format(city_date))\n",
    "plt.xlabel('Latitude')\n",
    "plt.ylabel('Wind Speed (mph)')\n",
    "plt.savefig('Images/LatitudeVsWind Speed.png')"
   ]
  },
  {
   "cell_type": "markdown",
   "metadata": {},
   "source": [
    "## Linear Regression"
   ]
  },
  {
   "cell_type": "code",
   "execution_count": 254,
   "metadata": {},
   "outputs": [],
   "source": [
    "# OPTIONAL: Create a function to create Linear Regression plots\n",
    "#Linear regression equation Y = a + bX\n",
    "def linear_regression_plot(df,title_name,y_column_name,y_label,file_name,xy):\n",
    "    x_value = df['Latitude']\n",
    "    y_value = df[y_column_name]\n",
    "    (slope,intercept,rvalue,pvalue,stderr) = linregress(x_value,y_value)\n",
    "    regression_values = x_value * slope + intercept\n",
    "    line_equation = 'y = ' + str(round(slope,2)) + 'x + ' + str(round(intercept,2))\n",
    "    plt.scatter(x_value,y_value)\n",
    "    plt.plot(x_value,regression_values,'r-')\n",
    "    plt.xlabel('Latiude')\n",
    "    plt.ylabel(y_label)\n",
    "    plt.annotate(line_equation,xy,fontsize=15,color='red')\n",
    "    plt.title(title_name)\n",
    "    \n",
    "    print(f'The r-squared is: {rvalue}')\n",
    "    plt.savefig('Images/file_name')"
   ]
  },
  {
   "cell_type": "code",
   "execution_count": 258,
   "metadata": {},
   "outputs": [],
   "source": [
    "# Create Northern and Southern Hemisphere DataFrames\n",
    "northern_hemisphere_df = city_data_new.loc[city_data_new['Latitude'] >= 0]\n",
    "southern_hemisphere_df = city_data_new.loc[city_data_new['Latitude'] < 0]"
   ]
  },
  {
   "cell_type": "markdown",
   "metadata": {},
   "source": [
    "####  Northern Hemisphere - Max Temp vs. Latitude Linear Regression"
   ]
  },
  {
   "cell_type": "code",
   "execution_count": 259,
   "metadata": {},
   "outputs": [
    {
     "name": "stdout",
     "output_type": "stream",
     "text": [
      "The r-squared is: -0.5944236303241514\n"
     ]
    },
    {
     "data": {
      "image/png": "[encoded data removed]",
      "text/plain": [
       "<Figure size 432x288 with 1 Axes>"
      ]
     },
     "metadata": {
      "needs_background": "light"
     },
     "output_type": "display_data"
    }
   ],
   "source": [
    "linear_regression_plot(northern_hemisphere_df,\n",
    "                       'Northern Hemisphere - Max Temp vs. Latitude Linear Regression',\n",
    "                       'Max Temperature',\n",
    "                       'Maximum Temperature (F)',\n",
    "                       'Images/MaxTempVsLatLinRegress_northern.png',\n",
    "                       (10,0))"
   ]
  },
  {
   "cell_type": "markdown",
   "metadata": {},
   "source": [
    "####  Southern Hemisphere - Max Temp vs. Latitude Linear Regression"
   ]
  },
  {
   "cell_type": "code",
   "execution_count": 260,
   "metadata": {
    "scrolled": true
   },
   "outputs": [
    {
     "name": "stdout",
     "output_type": "stream",
     "text": [
      "The r-squared is: 0.756275535906761\n"
     ]
    },
    {
     "data": {
      "image/png": "[encoded data removed]",
      "text/plain": [
       "<Figure size 432x288 with 1 Axes>"
      ]
     },
     "metadata": {
      "needs_background": "light"
     },
     "output_type": "display_data"
    }
   ],
   "source": [
    "linear_regression_plot(southern_hemisphere_df,\n",
    "                       'Southern Hemisphere - Max Temp vs. Latitude Linear Regression',\n",
    "                       'Max Temperature',\n",
    "                       'Maximum Temperature (F)',\n",
    "                       'Images/MaxTempVsLatLinRegress_southern.png',\n",
    "                       (10,0))"
   ]
  },
  {
   "cell_type": "markdown",
   "metadata": {},
   "source": [
    "####  Northern Hemisphere - Humidity (%) vs. Latitude Linear Regression"
   ]
  },
  {
   "cell_type": "code",
   "execution_count": 263,
   "metadata": {},
   "outputs": [
    {
     "name": "stdout",
     "output_type": "stream",
     "text": [
      "The r-squared is: -0.1153848222552355\n"
     ]
    },
    {
     "data": {
      "image/png": "[encoded data removed]",
      "text/plain": [
       "<Figure size 432x288 with 1 Axes>"
      ]
     },
     "metadata": {
      "needs_background": "light"
     },
     "output_type": "display_data"
    }
   ],
   "source": [
    "linear_regression_plot(northern_hemisphere_df,\n",
    "                       'Northern Hemisphere - Humidity (%) vs. Latitude Linear Regression',\n",
    "                       'Humidity',\n",
    "                       'Humidity (%) ',\n",
    "                       'Images/HumidityVsLatLinRegress_northern.png',\n",
    "                       (10,0))"
   ]
  },
  {
   "cell_type": "markdown",
   "metadata": {},
   "source": [
    "####  Southern Hemisphere - Humidity (%) vs. Latitude Linear Regression"
   ]
  },
  {
   "cell_type": "code",
   "execution_count": 264,
   "metadata": {},
   "outputs": [
    {
     "name": "stdout",
     "output_type": "stream",
     "text": [
      "The r-squared is: 0.07158610805750569\n"
     ]
    },
    {
     "data": {
      "image/png": "[encoded data removed]",
      "text/plain": [
       "<Figure size 432x288 with 1 Axes>"
      ]
     },
     "metadata": {
      "needs_background": "light"
     },
     "output_type": "display_data"
    }
   ],
   "source": [
    "linear_regression_plot(southern_hemisphere_df,\n",
    "                       'Southern Hemisphere - Humidity (%) vs. Latitude Linear Regression',\n",
    "                       'Humidity',\n",
    "                       'Humidity (%)',\n",
    "                       'Images/HumidityVsLatLinRegress_southern.png',\n",
    "                       (10,0))"
   ]
  },
  {
   "cell_type": "markdown",
   "metadata": {},
   "source": [
    "####  Northern Hemisphere - Cloudiness (%) vs. Latitude Linear Regression"
   ]
  },
  {
   "cell_type": "code",
   "execution_count": 266,
   "metadata": {},
   "outputs": [
    {
     "name": "stdout",
     "output_type": "stream",
     "text": [
      "The r-squared is: -0.08520965379768007\n"
     ]
    },
    {
     "data": {
      "image/png": "[encoded data removed]",
      "text/plain": [
       "<Figure size 432x288 with 1 Axes>"
      ]
     },
     "metadata": {
      "needs_background": "light"
     },
     "output_type": "display_data"
    }
   ],
   "source": [
    "linear_regression_plot(southern_hemisphere_df,\n",
    "                       'Northern Hemisphere - Cloudiness (%) vs. Latitude Linear Regression',\n",
    "                       'Cloudiness',\n",
    "                       'Cloudiness (%)',\n",
    "                       'Images/CloudinessVsLatLinearRegress_Northern.png',\n",
    "                       (10,0))"
   ]
  },
  {
   "cell_type": "markdown",
   "metadata": {},
   "source": [
    "####  Southern Hemisphere - Cloudiness (%) vs. Latitude Linear Regression"
   ]
  },
  {
   "cell_type": "code",
   "execution_count": 267,
   "metadata": {},
   "outputs": [
    {
     "name": "stdout",
     "output_type": "stream",
     "text": [
      "The r-squared is: -0.08520965379768007\n"
     ]
    },
    {
     "data": {
      "image/png": "[encoded data removed]",
      "text/plain": [
       "<Figure size 432x288 with 1 Axes>"
      ]
     },
     "metadata": {
      "needs_background": "light"
     },
     "output_type": "display_data"
    }
   ],
   "source": [
    "linear_regression_plot(southern_hemisphere_df,\n",
    "                       'Southern Hemisphere - Cloudiness (%) vs. Latitude Linear Regression',\n",
    "                       'Cloudiness',\n",
    "                       'Cloudiness (%)',\n",
    "                       'Images/CloudinessVsLatLinearRegress_southern.png',\n",
    "                       (10,0))"
   ]
  },
  {
   "cell_type": "markdown",
   "metadata": {},
   "source": [
    "####  Northern Hemisphere - Wind Speed (mph) vs. Latitude Linear Regression"
   ]
  },
  {
   "cell_type": "code",
   "execution_count": 268,
   "metadata": {},
   "outputs": [
    {
     "name": "stdout",
     "output_type": "stream",
     "text": [
      "The r-squared is: -0.018314531820216747\n"
     ]
    },
    {
     "data": {
      "image/png": "[encoded data removed]",
      "text/plain": [
       "<Figure size 432x288 with 1 Axes>"
      ]
     },
     "metadata": {
      "needs_background": "light"
     },
     "output_type": "display_data"
    }
   ],
   "source": [
    "linear_regression_plot(southern_hemisphere_df,\n",
    "                       'Northern Hemisphere - Wind Speed (mph) vs. Latitude Linear Regression',\n",
    "                       'Wind Speed',\n",
    "                       'Wind Speed (mph)',\n",
    "                       'Images/WindSpeedVsLinRegress_northern.png',\n",
    "                       (10,0))"
   ]
  },
  {
   "cell_type": "markdown",
   "metadata": {},
   "source": [
    "####  Southern Hemisphere - Wind Speed (mph) vs. Latitude Linear Regression"
   ]
  },
  {
   "cell_type": "code",
   "execution_count": 269,
   "metadata": {},
   "outputs": [
    {
     "name": "stdout",
     "output_type": "stream",
     "text": [
      "The r-squared is: -0.018314531820216747\n"
     ]
    },
    {
     "data": {
      "image/png": "[encoded data removed]",
      "text/plain": [
       "<Figure size 432x288 with 1 Axes>"
      ]
     },
     "metadata": {
      "needs_background": "light"
     },
     "output_type": "display_data"
    }
   ],
   "source": [
    "linear_regression_plot(southern_hemisphere_df,\n",
    "                       'Southern Hemisphere - Wind Speed (mph) vs. Latitude Linear Regression',\n",
    "                       'Wind Speed',\n",
    "                       'Wind Speed (mph)',\n",
    "                       'Images/WindSpeedVsLinRegress_southern.png',\n",
    "                       (10,0))"
   ]
  },
  {
   "cell_type": "code",
   "execution_count": null,
   "metadata": {},
   "outputs": [],
   "source": []
  }
 ],
 "metadata": {
  "anaconda-cloud": {},
  "kernel_info": {
   "name": "python3"
  },
  "kernelspec": {
   "display_name": "Python 3",
   "language": "python",
   "name": "python3"
  },
  "language_info": {
   "codemirror_mode": {
    "name": "ipython",
    "version": 3
   },
   "file_extension": ".py",
   "mimetype": "text/x-python",
   "name": "python",
   "nbconvert_exporter": "python",
   "pygments_lexer": "ipython3",
   "version": "3.6.10"
  },
  "latex_envs": {
   "LaTeX_envs_menu_present": true,
   "autoclose": false,
   "autocomplete": true,
   "bibliofile": "biblio.bib",
   "cite_by": "apalike",
   "current_citInitial": 1,
   "eqLabelWithNumbers": true,
   "eqNumInitial": 1,
   "hotkeys": {
    "equation": "Ctrl-E",
    "itemize": "Ctrl-I"
   },
   "labels_anchors": false,
   "latex_user_defs": false,
   "report_style_numbering": false,
   "user_envs_cfg": false
  },
  "nteract": {
   "version": "0.12.3"
  }
 },
 "nbformat": 4,
 "nbformat_minor": 2
}
