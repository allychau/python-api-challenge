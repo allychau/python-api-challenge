{
 "cells": [
  {
   "cell_type": "markdown",
   "metadata": {},
   "source": [
    "# WeatherPy\n",
    "----\n",
    "\n",
    "#### Note\n",
    "* Instructions have been included for each segment. You do not have to follow them exactly, but they are included to help you think through the steps."
   ]
  },
  {
   "cell_type": "code",
   "execution_count": 308,
   "metadata": {
    "scrolled": true
   },
   "outputs": [],
   "source": [
    "# Dependencies and Setup\n",
    "import matplotlib.pyplot as plt\n",
    "import pandas as pd\n",
    "import numpy as np\n",
    "import requests\n",
    "import time\n",
    "from scipy.stats import linregress\n",
    "\n",
    "# Import API key\n",
    "from api_keys import weather_api_key\n",
    "\n",
    "# Incorporated citipy to determine city based on latitude and longitude\n",
    "from citipy import citipy\n",
    "\n",
    "from pprint import pprint\n",
    "#import datetime\n",
    "import os\n",
    "import csv\n",
    "\n",
    "\n",
    "# Output File (CSV)\n",
    "output_data_file = \"output_data/cities.csv\"\n",
    "\n",
    "# Range of latitudes and longitudes\n",
    "lat_range = (-90, 90)\n",
    "lng_range = (-180, 180)"
   ]
  },
  {
   "cell_type": "markdown",
   "metadata": {},
   "source": [
    "## Generate Cities List"
   ]
  },
  {
   "cell_type": "code",
   "execution_count": 309,
   "metadata": {},
   "outputs": [
    {
     "data": {
      "text/plain": [
       "616"
      ]
     },
     "execution_count": 309,
     "metadata": {},
     "output_type": "execute_result"
    }
   ],
   "source": [
    "# List for holding lat_lngs and cities\n",
    "lat_lngs = []\n",
    "cities = []\n",
    "\n",
    "# Create a set of random lat and lng combinations\n",
    "lats = np.random.uniform(lat_range[0], lat_range[1], size=1500)\n",
    "lngs = np.random.uniform(lng_range[0], lng_range[1], size=1500)\n",
    "lat_lngs = zip(lats, lngs)\n",
    "\n",
    "# Identify nearest city for each lat, lng combination\n",
    "for lat_lng in lat_lngs:\n",
    "    city = citipy.nearest_city(lat_lng[0], lat_lng[1]).city_name\n",
    "    \n",
    "    # If the city is unique, then add it to a our cities list\n",
    "    if city not in cities:\n",
    "        cities.append(city)\n",
    "\n",
    "# Print the city count to confirm sufficient count\n",
    "len(cities)"
   ]
  },
  {
   "cell_type": "markdown",
   "metadata": {},
   "source": [
    "### Perform API Calls\n",
    "* Perform a weather check on each city using a series of successive API calls.\n",
    "* Include a print log of each city as it'sbeing processed (with the city number and city name).\n"
   ]
  },
  {
   "cell_type": "code",
   "execution_count": 310,
   "metadata": {},
   "outputs": [
    {
     "data": {
      "text/plain": [
       "'http://api.openweathermap.org/data/2.5/weather?appid=8ef7960e4b4ab5cd6cc11c76b8226720&units=metric&q='"
      ]
     },
     "execution_count": 310,
     "metadata": {},
     "output_type": "execute_result"
    }
   ],
   "source": [
    "#api.openweathermap.org/data/2.5/weather?lat={lat}&lon={lon}&appid={your api key}\n",
    "# Save config information.\n",
    "url = \"http://api.openweathermap.org/data/2.5/weather?\"\n",
    "units = \"metric\"\n",
    "\n",
    "# Build partial query URL\n",
    "query_url = f\"{url}appid={weather_api_key}&units={units}&q=\"\n",
    "query_url\n",
    "        \n",
    "        "
   ]
  },
  {
   "cell_type": "code",
   "execution_count": 311,
   "metadata": {},
   "outputs": [],
   "source": [
    "#response = requests.get(query_url +'georgetown').json()\n",
    "#pprint(response)"
   ]
  },
  {
   "cell_type": "code",
   "execution_count": 312,
   "metadata": {},
   "outputs": [
    {
     "name": "stdout",
     "output_type": "stream",
     "text": [
      "Beginning Data Retrieval\n",
      "--------------------------\n",
      "Processing Record 1| bredasdorp\n",
      "Processing Record 2| esperance\n",
      "Processing Record 3| busselton\n",
      "Processing Record 4| port lincoln\n",
      "Processing Record 5| bluff\n",
      "Processing Record 6| mar del plata\n",
      "Processing Record 7| alakurtti\n",
      "Processing Record 8| saskylakh\n",
      "Processing Record 9| svetlogorsk\n",
      "Processing Record 10| sao jose da coroa grande\n",
      "Processing Record 11| ushuaia\n",
      "Processing Record 12| ribeira grande\n",
      "Processing Record 13| tura\n",
      "Processing Record 14| dikson\n",
      "Processing Record 15| topolobampo\n",
      "Processing Record 16| hilo\n",
      "City not found. Skipping...\n",
      "Processing Record 17| hobart\n",
      "Processing Record 18| mendoza\n",
      "Processing Record 19| bambous virieux\n",
      "Processing Record 20| hendek\n",
      "Processing Record 21| kudahuvadhoo\n",
      "Processing Record 22| hualmay\n",
      "Processing Record 23| albany\n",
      "City not found. Skipping...\n",
      "Processing Record 24| eqbaliyeh\n",
      "Processing Record 25| saint george\n",
      "Processing Record 26| envira\n",
      "Processing Record 27| torbay\n",
      "Processing Record 28| saint-philippe\n",
      "Processing Record 29| kapaa\n",
      "Processing Record 30| yellowknife\n",
      "Processing Record 31| khatanga\n",
      "City not found. Skipping...\n",
      "Processing Record 32| vaini\n",
      "Processing Record 33| atuona\n",
      "Processing Record 34| rikitea\n",
      "Processing Record 35| lebu\n",
      "Processing Record 36| ostrovnoy\n",
      "Processing Record 37| bandundu\n",
      "Processing Record 38| hundorp\n",
      "Processing Record 39| cape town\n",
      "Processing Record 40| constitucion\n",
      "Processing Record 41| barrow\n",
      "Processing Record 42| east london\n",
      "Processing Record 43| mataura\n",
      "Processing Record 44| betsiamites\n",
      "Processing Record 45| bilma\n",
      "Processing Record 46| faanui\n",
      "Processing Record 47| havre-saint-pierre\n",
      "Processing Record 48| punta arenas\n",
      "City not found. Skipping...\n",
      "Processing Record 49| narsaq\n",
      "Processing Record 50| puerto ayora\n",
      "Processing Record 51| portree\n",
      "Processing Record 52| abha\n",
      "Processing Record 53| athabasca\n",
      "City not found. Skipping...\n",
      "Processing Record 54| valparaiso\n",
      "Processing Record 55| altotonga\n",
      "Processing Record 56| grand gaube\n",
      "Processing Record 57| kodiak\n",
      "Processing Record 58| honningsvag\n",
      "Processing Record 59| nome\n",
      "Processing Record 60| nampula\n",
      "Processing Record 61| shimoda\n",
      "Processing Record 62| hermanus\n",
      "Processing Record 63| anloga\n",
      "Processing Record 64| maturin\n",
      "Processing Record 65| moroceli\n",
      "Processing Record 66| nelson bay\n",
      "Processing Record 67| coahuayana\n",
      "Processing Record 68| sao filipe\n",
      "Processing Record 69| cabo san lucas\n",
      "Processing Record 70| flinders\n",
      "Processing Record 71| lubango\n",
      "City not found. Skipping...\n",
      "Processing Record 72| port elizabeth\n",
      "Processing Record 73| palauig\n",
      "Processing Record 74| ancud\n",
      "Processing Record 75| nara\n",
      "Processing Record 76| verkhnyaya inta\n",
      "Processing Record 77| new norfolk\n",
      "Processing Record 78| nouadhibou\n",
      "Processing Record 79| zhigansk\n",
      "Processing Record 80| caravelas\n",
      "Processing Record 81| westport\n",
      "City not found. Skipping...\n",
      "Processing Record 82| namibe\n",
      "Processing Record 83| jacareacanga\n",
      "Processing Record 84| longyearbyen\n",
      "Processing Record 85| kenai\n",
      "Processing Record 86| qaanaaq\n",
      "Processing Record 87| souillac\n",
      "Processing Record 88| margate\n",
      "Processing Record 89| hithadhoo\n",
      "Processing Record 90| lavrentiya\n",
      "Processing Record 91| deputatskiy\n",
      "Processing Record 92| luderitz\n",
      "Processing Record 93| saint-michel-des-saints\n",
      "Processing Record 94| pathein\n",
      "Processing Record 95| isangel\n",
      "Processing Record 96| northam\n",
      "Processing Record 97| sorong\n",
      "Processing Record 98| inhambane\n",
      "Processing Record 99| karasjok\n",
      "Processing Record 100| luba\n",
      "Processing Record 101| san jose\n",
      "Processing Record 102| georgetown\n",
      "Processing Record 103| fortuna\n",
      "Processing Record 104| bengkulu\n",
      "Processing Record 105| harper\n",
      "Processing Record 106| sur\n",
      "Processing Record 107| fairview\n",
      "Processing Record 108| mehamn\n",
      "Processing Record 109| kailua\n",
      "Processing Record 110| tuktoyaktuk\n",
      "Processing Record 111| namatanai\n",
      "Processing Record 112| saint-francois\n",
      "Processing Record 113| ponta do sol\n",
      "Processing Record 114| rampura\n",
      "Processing Record 115| korla\n",
      "Processing Record 116| kaitangata\n",
      "Processing Record 117| padang\n",
      "Processing Record 118| victoria\n",
      "Processing Record 119| high rock\n",
      "Processing Record 120| san carlos de bariloche\n",
      "Processing Record 121| oistins\n",
      "Processing Record 122| yumen\n",
      "Processing Record 123| college\n",
      "Processing Record 124| castres\n",
      "Processing Record 125| tasiilaq\n",
      "Processing Record 126| clyde river\n",
      "Processing Record 127| brufut\n",
      "Processing Record 128| sakaiminato\n",
      "Processing Record 129| cherskiy\n",
      "City not found. Skipping...\n",
      "Processing Record 130| mega\n",
      "Processing Record 131| messina\n",
      "Processing Record 132| fort nelson\n",
      "Processing Record 133| lompoc\n",
      "Processing Record 134| nhulunbuy\n",
      "Processing Record 135| zhangye\n",
      "Processing Record 136| mahebourg\n",
      "Processing Record 137| ahipara\n",
      "Processing Record 138| piltene\n",
      "Processing Record 139| qaqortoq\n",
      "Processing Record 140| sao domingos\n",
      "Processing Record 141| cambrils\n",
      "Processing Record 142| jijiga\n",
      "Processing Record 143| banda aceh\n",
      "City not found. Skipping...\n",
      "Processing Record 144| bethel\n",
      "Processing Record 145| thompson\n",
      "Processing Record 146| nikolskoye\n",
      "Processing Record 147| high level\n",
      "Processing Record 148| luwuk\n",
      "Processing Record 149| beipiao\n",
      "Processing Record 150| moron\n",
      "Processing Record 151| tucuman\n",
      "Processing Record 152| houma\n",
      "Processing Record 153| kieta\n",
      "Processing Record 154| avarua\n",
      "Processing Record 155| shenjiamen\n",
      "Processing Record 156| castro\n",
      "City not found. Skipping...\n",
      "Processing Record 157| calama\n",
      "Processing Record 158| healesville\n",
      "Processing Record 159| chatra\n",
      "Processing Record 160| santa maria\n",
      "Processing Record 161| san quintin\n",
      "Processing Record 162| mitsamiouli\n",
      "Processing Record 163| hasaki\n",
      "Processing Record 164| alta floresta\n",
      "Processing Record 165| maraa\n",
      "Processing Record 166| provideniya\n",
      "Processing Record 167| mandalgovi\n",
      "Processing Record 168| gravelbourg\n",
      "Processing Record 169| soldotna\n",
      "Processing Record 170| asau\n",
      "Processing Record 171| sidney\n",
      "Processing Record 172| jamestown\n",
      "Processing Record 173| mount gambier\n",
      "Processing Record 174| sioux lookout\n",
      "Processing Record 175| turukhansk\n",
      "Processing Record 176| port alfred\n",
      "Processing Record 177| arraial do cabo\n",
      "Processing Record 178| butaritari\n",
      "Processing Record 179| kawalu\n",
      "City not found. Skipping...\n",
      "Processing Record 180| olean\n",
      "Processing Record 181| mayo\n",
      "Processing Record 182| airai\n",
      "Processing Record 183| lucapa\n",
      "Processing Record 184| coquimbo\n",
      "Processing Record 185| dunedin\n",
      "Processing Record 186| lima\n",
      "Processing Record 187| barcelos\n",
      "City not found. Skipping...\n",
      "City not found. Skipping...\n",
      "Processing Record 188| vila\n",
      "Processing Record 189| surt\n",
      "Processing Record 190| hofn\n",
      "City not found. Skipping...\n",
      "Processing Record 191| riohacha\n",
      "Processing Record 192| kyaukse\n",
      "Processing Record 193| hernani\n",
      "Processing Record 194| cabedelo\n",
      "Processing Record 195| huarmey\n",
      "Processing Record 196| mangrol\n",
      "Processing Record 197| nipawin\n",
      "Processing Record 198| bowen\n",
      "Processing Record 199| mataram\n",
      "Processing Record 200| ambon\n",
      "Processing Record 201| yulara\n",
      "Processing Record 202| port augusta\n",
      "Processing Record 203| saurimo\n",
      "Processing Record 204| chita\n",
      "Processing Record 205| pacific grove\n",
      "City not found. Skipping...\n",
      "Processing Record 206| bud\n",
      "Processing Record 207| gobabis\n",
      "Processing Record 208| meulaboh\n",
      "Processing Record 209| charleston\n",
      "Processing Record 210| tazovskiy\n",
      "Processing Record 211| omurtag\n",
      "Processing Record 212| bathsheba\n",
      "Processing Record 213| alofi\n",
      "Processing Record 214| camopi\n",
      "Processing Record 215| farafangana\n",
      "Processing Record 216| brewster\n",
      "Processing Record 217| daru\n",
      "Processing Record 218| touros\n",
      "Processing Record 219| saldanha\n",
      "Processing Record 220| constanta\n",
      "Processing Record 221| umm lajj\n",
      "Processing Record 222| itarema\n",
      "Processing Record 223| cidreira\n",
      "Processing Record 224| los altos\n",
      "Processing Record 225| ixtapa\n",
      "Processing Record 226| fort abbas\n",
      "Processing Record 227| guerrero negro\n",
      "Processing Record 228| velky osek\n",
      "Processing Record 229| alice town\n",
      "Processing Record 230| sinnamary\n",
      "Processing Record 231| makinsk\n",
      "Processing Record 232| sumenep\n",
      "Processing Record 233| great bend\n",
      "Processing Record 234| kushima\n",
      "Processing Record 235| baculin\n",
      "Processing Record 236| nakanojo\n",
      "Processing Record 237| dali\n",
      "Processing Record 238| carnarvon\n",
      "Processing Record 239| santa cruz\n",
      "Processing Record 240| lagoa\n",
      "Processing Record 241| geraldton\n",
      "City not found. Skipping...\n",
      "Processing Record 242| nizhniy odes\n",
      "Processing Record 243| hambantota\n"
     ]
    },
    {
     "name": "stdout",
     "output_type": "stream",
     "text": [
      "Processing Record 244| nanortalik\n",
      "Processing Record 245| olinda\n",
      "City not found. Skipping...\n",
      "Processing Record 246| san matias\n",
      "Processing Record 247| fare\n",
      "City not found. Skipping...\n",
      "Processing Record 248| coihaique\n",
      "Processing Record 249| muros\n",
      "Processing Record 250| kincardine\n",
      "Processing Record 251| vila velha\n",
      "Processing Record 252| volksrust\n",
      "Processing Record 253| bardiyah\n",
      "Processing Record 254| nemuro\n",
      "Processing Record 255| aschersleben\n",
      "Processing Record 256| miyako\n",
      "Processing Record 257| cayenne\n",
      "Processing Record 258| onega\n",
      "Processing Record 259| gamba\n",
      "Processing Record 260| oranjemund\n",
      "Processing Record 261| upernavik\n",
      "City not found. Skipping...\n",
      "Processing Record 262| portland\n",
      "Processing Record 263| hoa binh\n",
      "City not found. Skipping...\n",
      "Processing Record 264| charters towers\n",
      "Processing Record 265| port-cartier\n",
      "Processing Record 266| basoko\n",
      "Processing Record 267| maniitsoq\n",
      "Processing Record 268| san patricio\n",
      "Processing Record 269| chokurdakh\n",
      "City not found. Skipping...\n",
      "Processing Record 270| arlit\n",
      "Processing Record 271| leshukonskoye\n",
      "Processing Record 272| ndioum\n",
      "Processing Record 273| homer\n",
      "Processing Record 274| maltahohe\n",
      "Processing Record 275| labuhan\n",
      "Processing Record 276| tilichiki\n",
      "Processing Record 277| tefe\n",
      "Processing Record 278| chicama\n",
      "Processing Record 279| marshall\n",
      "Processing Record 280| umuahia\n",
      "Processing Record 281| kasongo-lunda\n",
      "Processing Record 282| kostyantynivka\n",
      "Processing Record 283| ust-nera\n",
      "City not found. Skipping...\n",
      "Processing Record 284| oktyabrskoye\n",
      "Processing Record 285| severo-kurilsk\n",
      "Processing Record 286| los llanos de aridane\n",
      "Processing Record 287| kalya\n",
      "Processing Record 288| baft\n",
      "City not found. Skipping...\n",
      "Processing Record 289| santa fe do sul\n",
      "Processing Record 290| kargil\n",
      "Processing Record 291| griffith\n",
      "Processing Record 292| ryazhsk\n",
      "Processing Record 293| koumac\n",
      "Processing Record 294| camaqua\n",
      "Processing Record 295| kastamonu\n",
      "City not found. Skipping...\n",
      "Processing Record 296| severo-yeniseyskiy\n",
      "Processing Record 297| vaitape\n",
      "Processing Record 298| chapais\n",
      "Processing Record 299| stornoway\n",
      "Processing Record 300| iqaluit\n",
      "Processing Record 301| dingle\n",
      "Processing Record 302| moose factory\n",
      "Processing Record 303| lamu\n",
      "Processing Record 304| pimentel\n",
      "Processing Record 305| ekhabi\n",
      "City not found. Skipping...\n",
      "Processing Record 306| mangaldai\n",
      "Processing Record 307| san rafael\n",
      "City not found. Skipping...\n",
      "Processing Record 308| bardsir\n",
      "Processing Record 309| hua hin\n",
      "Processing Record 310| imbituba\n",
      "Processing Record 311| zyryanovsk\n",
      "Processing Record 312| port hardy\n",
      "Processing Record 313| nerchinskiy zavod\n",
      "Processing Record 314| kharp\n",
      "Processing Record 315| bangkalan\n",
      "Processing Record 316| chuy\n",
      "Processing Record 317| klaksvik\n",
      "Processing Record 318| pareora\n",
      "Processing Record 319| huaihua\n",
      "Processing Record 320| atagay\n",
      "Processing Record 321| grindavik\n",
      "City not found. Skipping...\n",
      "Processing Record 322| kahului\n",
      "Processing Record 323| hakui\n",
      "Processing Record 324| dimbokro\n",
      "Processing Record 325| erenhot\n",
      "Processing Record 326| blakstad\n",
      "Processing Record 327| santa rosalia\n",
      "Processing Record 328| la cruz\n",
      "Processing Record 329| sungai besar\n",
      "Processing Record 330| pevek\n",
      "Processing Record 331| celestun\n",
      "Processing Record 332| comodoro rivadavia\n",
      "Processing Record 333| batsfjord\n",
      "Processing Record 334| zhoucheng\n",
      "Processing Record 335| fairbanks\n",
      "Processing Record 336| codrington\n",
      "Processing Record 337| formosa\n",
      "Processing Record 338| katobu\n",
      "Processing Record 339| tahta\n",
      "Processing Record 340| mbaiki\n",
      "City not found. Skipping...\n",
      "Processing Record 341| dangriga\n",
      "Processing Record 342| leningradskiy\n",
      "Processing Record 343| morro bay\n",
      "Processing Record 344| ballina\n",
      "Processing Record 345| khartoum\n",
      "Processing Record 346| morant bay\n",
      "Processing Record 347| bhakkar\n",
      "Processing Record 348| purpe\n",
      "Processing Record 349| huilong\n",
      "Processing Record 350| gizo\n",
      "Processing Record 351| samut sakhon\n",
      "Processing Record 352| lata\n",
      "Processing Record 353| southbridge\n",
      "Processing Record 354| nador\n",
      "Processing Record 355| galle\n",
      "Processing Record 356| santiago de cuba\n",
      "Processing Record 357| ise\n",
      "Processing Record 358| rio grande\n",
      "Processing Record 359| talnakh\n",
      "Processing Record 360| bang khla\n",
      "Processing Record 361| nakhon si thammarat\n",
      "Processing Record 362| niagara falls\n",
      "Processing Record 363| necochea\n",
      "City not found. Skipping...\n",
      "Processing Record 364| lazaro cardenas\n",
      "Processing Record 365| shahreza\n",
      "Processing Record 366| hailin\n",
      "Processing Record 367| rabo de peixe\n",
      "Processing Record 368| quatre cocos\n",
      "Processing Record 369| erdaojiang\n",
      "City not found. Skipping...\n",
      "Processing Record 370| otavalo\n",
      "Processing Record 371| tupik\n",
      "Processing Record 372| udachnyy\n",
      "Processing Record 373| taksimo\n",
      "Processing Record 374| beringovskiy\n",
      "Processing Record 375| taoudenni\n",
      "Processing Record 376| dhidhdhoo\n",
      "Processing Record 377| taltal\n",
      "Processing Record 378| redmond\n",
      "City not found. Skipping...\n",
      "Processing Record 379| sobolevo\n",
      "City not found. Skipping...\n",
      "City not found. Skipping...\n",
      "Processing Record 380| aste\n",
      "Processing Record 381| nantucket\n",
      "Processing Record 382| chadiza\n",
      "Processing Record 383| lorengau\n",
      "Processing Record 384| villablino\n",
      "Processing Record 385| katsuura\n",
      "City not found. Skipping...\n",
      "Processing Record 386| verkhnechusovskiye gorodki\n",
      "Processing Record 387| san fernando\n",
      "Processing Record 388| yongchang\n",
      "Processing Record 389| atar\n",
      "Processing Record 390| beloha\n",
      "Processing Record 391| araguacu\n",
      "Processing Record 392| champerico\n",
      "Processing Record 393| bathurst\n",
      "Processing Record 394| sitka\n",
      "Processing Record 395| pemba\n",
      "Processing Record 396| bambanglipuro\n",
      "Processing Record 397| iquitos\n",
      "Processing Record 398| moctezuma\n",
      "Processing Record 399| mount isa\n",
      "Processing Record 400| gambela\n",
      "Processing Record 401| rio gallegos\n",
      "Processing Record 402| tungawan\n",
      "Processing Record 403| bejar\n",
      "Processing Record 404| canico\n",
      "Processing Record 405| may pen\n",
      "Processing Record 406| saint-joseph\n",
      "Processing Record 407| blythe\n",
      "Processing Record 408| kirksville\n",
      "Processing Record 409| horki\n",
      "Processing Record 410| jiazi\n",
      "Processing Record 411| lac du bonnet\n",
      "Processing Record 412| gamarra\n",
      "Processing Record 413| saint-augustin\n",
      "Processing Record 414| mathbaria\n",
      "Processing Record 415| lethem\n",
      "Processing Record 416| la primavera\n",
      "City not found. Skipping...\n",
      "Processing Record 417| panguna\n",
      "City not found. Skipping...\n",
      "Processing Record 418| aykhal\n",
      "Processing Record 419| tanda\n",
      "Processing Record 420| faya\n",
      "City not found. Skipping...\n",
      "Processing Record 421| albufeira\n",
      "City not found. Skipping...\n",
      "Processing Record 422| biak\n",
      "Processing Record 423| novikovo\n",
      "Processing Record 424| srednekolymsk\n",
      "Processing Record 425| ilhabela\n",
      "Processing Record 426| oroquieta\n",
      "City not found. Skipping...\n",
      "Processing Record 427| pringsewu\n",
      "Processing Record 428| lokomotivnyy\n",
      "Processing Record 429| whitefish\n",
      "Processing Record 430| allen\n",
      "Processing Record 431| warmbad\n",
      "Processing Record 432| lufilufi\n",
      "Processing Record 433| vanavara\n",
      "Processing Record 434| manaus\n",
      "Processing Record 435| luangwa\n",
      "Processing Record 436| avera\n",
      "City not found. Skipping...\n",
      "Processing Record 437| safford\n",
      "Processing Record 438| bridlington\n",
      "Processing Record 439| jalu\n",
      "Processing Record 440| solton\n",
      "Processing Record 441| vostok\n",
      "Processing Record 442| ilulissat\n",
      "Processing Record 443| aabybro\n",
      "Processing Record 444| ellenabad\n",
      "Processing Record 445| gat\n",
      "Processing Record 446| kilindoni\n",
      "Processing Record 447| urumqi\n",
      "Processing Record 448| praya\n",
      "City not found. Skipping...\n",
      "Processing Record 449| urucurituba\n",
      "Processing Record 450| ginir\n",
      "Processing Record 451| limon\n",
      "Processing Record 452| hokitika\n",
      "Processing Record 453| salalah\n",
      "Processing Record 454| zapolyarnyy\n",
      "Processing Record 455| half moon bay\n",
      "Processing Record 456| hamilton\n",
      "Processing Record 457| ponta delgada\n",
      "Processing Record 458| marovoay\n",
      "Processing Record 459| esmeraldas\n",
      "Processing Record 460| sao gotardo\n",
      "Processing Record 461| bonthe\n",
      "Processing Record 462| kaeo\n",
      "Processing Record 463| kandla\n",
      "Processing Record 464| carballo\n",
      "Processing Record 465| nueva gorgona\n",
      "Processing Record 466| middlebury\n",
      "Processing Record 467| krasnoborsk\n",
      "City not found. Skipping...\n",
      "Processing Record 468| hobyo\n",
      "Processing Record 469| asfi\n",
      "Processing Record 470| ilebo\n",
      "Processing Record 471| mora\n",
      "Processing Record 472| vao\n",
      "Processing Record 473| shar\n",
      "Processing Record 474| ingham\n",
      "City not found. Skipping...\n"
     ]
    },
    {
     "name": "stdout",
     "output_type": "stream",
     "text": [
      "Processing Record 475| popondetta\n",
      "Processing Record 476| mantua\n",
      "Processing Record 477| neiafu\n",
      "Processing Record 478| prince rupert\n",
      "City not found. Skipping...\n",
      "Processing Record 479| galveston\n",
      "Processing Record 480| suez\n",
      "Processing Record 481| boden\n",
      "Processing Record 482| beya\n",
      "Processing Record 483| nyurba\n",
      "Processing Record 484| chumikan\n",
      "Processing Record 485| juneau\n",
      "Processing Record 486| camacha\n",
      "Processing Record 487| lancaster\n",
      "Processing Record 488| atasu\n",
      "Processing Record 489| belyy yar\n",
      "Processing Record 490| san francisco\n",
      "Processing Record 491| joao camara\n",
      "Processing Record 492| norman wells\n",
      "Processing Record 493| erzin\n",
      "Processing Record 494| te anau\n",
      "Processing Record 495| simao\n",
      "Processing Record 496| pasaco\n",
      "Processing Record 497| pisco\n",
      "Processing Record 498| aswan\n",
      "Processing Record 499| adre\n",
      "Processing Record 500| acarau\n",
      "Processing Record 501| bantogon\n",
      "Processing Record 502| arman\n",
      "Processing Record 503| merauke\n",
      "Processing Record 504| corning\n",
      "Processing Record 505| ahuimanu\n",
      "Processing Record 506| khandbari\n",
      "Processing Record 507| petropavlovsk-kamchatskiy\n",
      "Processing Record 508| saravan\n",
      "Processing Record 509| forbes\n",
      "Processing Record 510| milkovo\n",
      "Processing Record 511| divnogorsk\n",
      "Processing Record 512| san cristobal\n",
      "Processing Record 513| umkomaas\n",
      "Processing Record 514| shaunavon\n",
      "Processing Record 515| jaque\n",
      "Processing Record 516| sawtell\n",
      "Processing Record 517| maningrida\n",
      "Processing Record 518| licheng\n",
      "Processing Record 519| waipawa\n",
      "Processing Record 520| yoichi\n",
      "Processing Record 521| rock sound\n",
      "Processing Record 522| soyo\n",
      "Processing Record 523| port hedland\n",
      "Processing Record 524| luganville\n",
      "Processing Record 525| port keats\n",
      "Processing Record 526| ust-kuyga\n",
      "Processing Record 527| chirala\n",
      "Processing Record 528| brigantine\n",
      "Processing Record 529| uray\n",
      "Processing Record 530| krutinka\n",
      "Processing Record 531| kendari\n",
      "Processing Record 532| aklavik\n",
      "Processing Record 533| adrar\n",
      "Processing Record 534| roald\n",
      "Processing Record 535| pochutla\n",
      "Processing Record 536| lodja\n",
      "Processing Record 537| leh\n",
      "Processing Record 538| mangai\n",
      "Processing Record 539| la union\n",
      "Processing Record 540| hay river\n",
      "Processing Record 541| shiyan\n",
      "Processing Record 542| ridgecrest\n",
      "Processing Record 543| severnyy-kospashskiy\n",
      "Processing Record 544| kidal\n",
      "Processing Record 545| krasnoselkup\n",
      "Processing Record 546| ipameri\n",
      "Processing Record 547| joao pinheiro\n",
      "City not found. Skipping...\n",
      "Processing Record 548| henties bay\n",
      "Processing Record 549| vidalia\n",
      "City not found. Skipping...\n",
      "Processing Record 550| bara\n",
      "Processing Record 551| kembe\n",
      "Processing Record 552| baykit\n",
      "Processing Record 553| bosaso\n",
      "City not found. Skipping...\n",
      "Processing Record 554| lusambo\n",
      "Processing Record 555| susuman\n",
      "Processing Record 556| edgewater\n",
      "Processing Record 557| palmer\n",
      "Processing Record 558| evensk\n",
      "Processing Record 559| phuket\n",
      "City not found. Skipping...\n",
      "Processing Record 560| baran\n",
      "Processing Record 561| kargasok\n",
      "Processing Record 562| nueve de julio\n",
      "Processing Record 563| cuiluan\n",
      "Processing Record 564| acari\n",
      "Processing Record 565| kells\n",
      "Processing Record 566| nikolayevsk-na-amure\n",
      "Processing Record 567| haines junction\n",
      "Processing Record 568| linxia\n"
     ]
    }
   ],
   "source": [
    "# set up lists to hold reponse info\n",
    "\n",
    "record_count = 1\n",
    "#count_city = []\n",
    "city_weather_data = []\n",
    "print('Beginning Data Retrieval')\n",
    "print('--------------------------')\n",
    "# Loop through the list of cities and perform a request for data on each\n",
    "for city in cities:\n",
    "    response = requests.get(query_url + city).json()\n",
    "    try:\n",
    "        city_name = response['name']\n",
    "        city_country=response['sys']['country']\n",
    "        city_lat = response['coord']['lat']\n",
    "        city_lon = response['coord']['lon']\n",
    "        city_max_temp = response['main']['temp_max']\n",
    "        city_humidity = response['main']['humidity']\n",
    "        city_cloudiness = response['clouds']['all']\n",
    "        city_wind_speed = response['wind']['speed']\n",
    "        city_date = response['dt']\n",
    "        #city_date = datetime.utcfromtimestamp(response[\"dt\"]).strftime('%Y-%m-%d %H:%M:%S')\n",
    "        \n",
    "        #Data dictionary of weather data\n",
    "        city_weather_data.append({'City':city_name, \n",
    "                          'Country': city_country, \n",
    "                          'Latitude': city_lat, \n",
    "                          'Longitude': city_lon,\n",
    "                          'Max Temperature': city_max_temp,\n",
    "                          'Humidity': city_humidity, \n",
    "                          'Cloudiness': city_cloudiness, \n",
    "                          'Wind Speed': city_wind_speed,\n",
    "                          'Date': city_date})\n",
    "        \n",
    "        \n",
    "        print(f'Processing Record {record_count}| {city}')\n",
    "        record_count+= 1\n",
    "    except:\n",
    "        print(f'City not found. Skipping...')\n",
    "        \n"
   ]
  },
  {
   "cell_type": "markdown",
   "metadata": {},
   "source": [
    "### Convert Raw Data to DataFrame\n",
    "* Export the city data into a .csv.\n",
    "* Display the DataFrame"
   ]
  },
  {
   "cell_type": "code",
   "execution_count": 313,
   "metadata": {},
   "outputs": [],
   "source": [
    "# Open the file using \"write\" mode. Specify the variable to hold the contents\n",
    "with open(output_data_file, 'w') as csvfile:\n",
    "    # Initialize csv.writer\n",
    "    csvwriter = csv.writer(csvfile, delimiter=',')\n",
    "    # Write the first row (column headers)\n",
    "    csvwriter.writerows([city_weather_data])"
   ]
  },
  {
   "cell_type": "code",
   "execution_count": 314,
   "metadata": {},
   "outputs": [
    {
     "data": {
      "text/html": [
       "<div>\n",
       "<style scoped>\n",
       "    .dataframe tbody tr th:only-of-type {\n",
       "        vertical-align: middle;\n",
       "    }\n",
       "\n",
       "    .dataframe tbody tr th {\n",
       "        vertical-align: top;\n",
       "    }\n",
       "\n",
       "    .dataframe thead th {\n",
       "        text-align: right;\n",
       "    }\n",
       "</style>\n",
       "<table border=\"1\" class=\"dataframe\">\n",
       "  <thead>\n",
       "    <tr style=\"text-align: right;\">\n",
       "      <th></th>\n",
       "      <th>City</th>\n",
       "      <th>Country</th>\n",
       "      <th>Latitude</th>\n",
       "      <th>Longitude</th>\n",
       "      <th>Max Temperature</th>\n",
       "      <th>Humidity</th>\n",
       "      <th>Cloudiness</th>\n",
       "      <th>Wind Speed</th>\n",
       "      <th>Date</th>\n",
       "    </tr>\n",
       "  </thead>\n",
       "  <tbody>\n",
       "    <tr>\n",
       "      <th>0</th>\n",
       "      <td>Bredasdorp</td>\n",
       "      <td>ZA</td>\n",
       "      <td>-34.53</td>\n",
       "      <td>20.04</td>\n",
       "      <td>11.00</td>\n",
       "      <td>93</td>\n",
       "      <td>0</td>\n",
       "      <td>0.90</td>\n",
       "      <td>1595445107</td>\n",
       "    </tr>\n",
       "    <tr>\n",
       "      <th>1</th>\n",
       "      <td>Esperance</td>\n",
       "      <td>AU</td>\n",
       "      <td>-33.87</td>\n",
       "      <td>121.90</td>\n",
       "      <td>13.00</td>\n",
       "      <td>58</td>\n",
       "      <td>40</td>\n",
       "      <td>8.20</td>\n",
       "      <td>1595445107</td>\n",
       "    </tr>\n",
       "    <tr>\n",
       "      <th>2</th>\n",
       "      <td>Busselton</td>\n",
       "      <td>AU</td>\n",
       "      <td>-33.65</td>\n",
       "      <td>115.33</td>\n",
       "      <td>14.44</td>\n",
       "      <td>55</td>\n",
       "      <td>8</td>\n",
       "      <td>9.53</td>\n",
       "      <td>1595445108</td>\n",
       "    </tr>\n",
       "    <tr>\n",
       "      <th>3</th>\n",
       "      <td>Port Lincoln</td>\n",
       "      <td>AU</td>\n",
       "      <td>-34.73</td>\n",
       "      <td>135.87</td>\n",
       "      <td>9.60</td>\n",
       "      <td>81</td>\n",
       "      <td>2</td>\n",
       "      <td>3.94</td>\n",
       "      <td>1595445108</td>\n",
       "    </tr>\n",
       "    <tr>\n",
       "      <th>4</th>\n",
       "      <td>Bluff</td>\n",
       "      <td>NZ</td>\n",
       "      <td>-46.60</td>\n",
       "      <td>168.33</td>\n",
       "      <td>3.89</td>\n",
       "      <td>83</td>\n",
       "      <td>99</td>\n",
       "      <td>1.34</td>\n",
       "      <td>1595445108</td>\n",
       "    </tr>\n",
       "    <tr>\n",
       "      <th>5</th>\n",
       "      <td>Mar del Plata</td>\n",
       "      <td>AR</td>\n",
       "      <td>-38.00</td>\n",
       "      <td>-57.56</td>\n",
       "      <td>10.00</td>\n",
       "      <td>93</td>\n",
       "      <td>90</td>\n",
       "      <td>11.80</td>\n",
       "      <td>1595445108</td>\n",
       "    </tr>\n",
       "    <tr>\n",
       "      <th>6</th>\n",
       "      <td>Alakurtti</td>\n",
       "      <td>RU</td>\n",
       "      <td>66.97</td>\n",
       "      <td>30.35</td>\n",
       "      <td>17.78</td>\n",
       "      <td>68</td>\n",
       "      <td>100</td>\n",
       "      <td>2.24</td>\n",
       "      <td>1595445108</td>\n",
       "    </tr>\n",
       "    <tr>\n",
       "      <th>7</th>\n",
       "      <td>Saskylakh</td>\n",
       "      <td>RU</td>\n",
       "      <td>71.92</td>\n",
       "      <td>114.08</td>\n",
       "      <td>7.46</td>\n",
       "      <td>91</td>\n",
       "      <td>100</td>\n",
       "      <td>4.94</td>\n",
       "      <td>1595445109</td>\n",
       "    </tr>\n",
       "    <tr>\n",
       "      <th>8</th>\n",
       "      <td>Forsytheganj</td>\n",
       "      <td>BY</td>\n",
       "      <td>52.63</td>\n",
       "      <td>29.73</td>\n",
       "      <td>13.71</td>\n",
       "      <td>71</td>\n",
       "      <td>0</td>\n",
       "      <td>4.37</td>\n",
       "      <td>1595445109</td>\n",
       "    </tr>\n",
       "    <tr>\n",
       "      <th>9</th>\n",
       "      <td>São José da Coroa Grande</td>\n",
       "      <td>BR</td>\n",
       "      <td>-8.90</td>\n",
       "      <td>-35.15</td>\n",
       "      <td>25.45</td>\n",
       "      <td>71</td>\n",
       "      <td>72</td>\n",
       "      <td>4.03</td>\n",
       "      <td>1595445089</td>\n",
       "    </tr>\n",
       "  </tbody>\n",
       "</table>\n",
       "</div>"
      ],
      "text/plain": [
       "                       City Country  Latitude  Longitude  Max Temperature  \\\n",
       "0                Bredasdorp      ZA    -34.53      20.04            11.00   \n",
       "1                 Esperance      AU    -33.87     121.90            13.00   \n",
       "2                 Busselton      AU    -33.65     115.33            14.44   \n",
       "3              Port Lincoln      AU    -34.73     135.87             9.60   \n",
       "4                     Bluff      NZ    -46.60     168.33             3.89   \n",
       "5             Mar del Plata      AR    -38.00     -57.56            10.00   \n",
       "6                 Alakurtti      RU     66.97      30.35            17.78   \n",
       "7                 Saskylakh      RU     71.92     114.08             7.46   \n",
       "8              Forsytheganj      BY     52.63      29.73            13.71   \n",
       "9  São José da Coroa Grande      BR     -8.90     -35.15            25.45   \n",
       "\n",
       "   Humidity  Cloudiness  Wind Speed        Date  \n",
       "0        93           0        0.90  1595445107  \n",
       "1        58          40        8.20  1595445107  \n",
       "2        55           8        9.53  1595445108  \n",
       "3        81           2        3.94  1595445108  \n",
       "4        83          99        1.34  1595445108  \n",
       "5        93          90       11.80  1595445108  \n",
       "6        68         100        2.24  1595445108  \n",
       "7        91         100        4.94  1595445109  \n",
       "8        71           0        4.37  1595445109  \n",
       "9        71          72        4.03  1595445089  "
      ]
     },
     "execution_count": 314,
     "metadata": {},
     "output_type": "execute_result"
    }
   ],
   "source": [
    "#Convert weather data dictionary into a Data Frame\n",
    "cities_df = pd.DataFrame(city_weather_data)\n",
    "#cities_df = cities_df[['City','Country','Latitude','Max Temperature', 'Humidity','Cloudiness', 'Wind Speed']]\n",
    "cities_df.head(10)"
   ]
  },
  {
   "cell_type": "code",
   "execution_count": 315,
   "metadata": {},
   "outputs": [],
   "source": [
    "#type(city_date)\n",
    "#Convert an integer time stamp date to a string format date '%Y-%m-%d %H:%M:%S' in Coordinated Universal Time.\n",
    "#Not sure why it is datetime.dateime might have to global and local import datetime module\n",
    "city_date = datetime.datetime.utcfromtimestamp(city_date).strftime('%m/%d/%y')\n",
    "#cities_df['Date'] = city_date"
   ]
  },
  {
   "cell_type": "code",
   "execution_count": 316,
   "metadata": {
    "scrolled": true
   },
   "outputs": [
    {
     "data": {
      "text/plain": [
       "City               568\n",
       "Country            568\n",
       "Latitude           568\n",
       "Longitude          568\n",
       "Max Temperature    568\n",
       "Humidity           568\n",
       "Cloudiness         568\n",
       "Wind Speed         568\n",
       "Date               568\n",
       "dtype: int64"
      ]
     },
     "execution_count": 316,
     "metadata": {},
     "output_type": "execute_result"
    }
   ],
   "source": [
    "cities_df.count()"
   ]
  },
  {
   "cell_type": "markdown",
   "metadata": {},
   "source": [
    "## Inspect the data and remove the cities where the humidity > 100%.\n",
    "----\n",
    "Skip this step if there are no cities that have humidity > 100%. "
   ]
  },
  {
   "cell_type": "code",
   "execution_count": null,
   "metadata": {},
   "outputs": [],
   "source": []
  },
  {
   "cell_type": "code",
   "execution_count": 317,
   "metadata": {},
   "outputs": [
    {
     "data": {
      "text/plain": [
       "Int64Index([], dtype='int64')"
      ]
     },
     "execution_count": 317,
     "metadata": {},
     "output_type": "execute_result"
    }
   ],
   "source": [
    "#  Get the indices of cities that have humidity over 100%.\n",
    "\n",
    "#create variable with True if humidity > 100\n",
    "humidity_indx = cities_df[cities_df['Humidity'] > 100].index\n",
    "#humidity_indx = cities_df[cities_df['Humidity'] == 100].index\n",
    "humidity_indx  "
   ]
  },
  {
   "cell_type": "code",
   "execution_count": 318,
   "metadata": {},
   "outputs": [
    {
     "data": {
      "text/html": [
       "<div>\n",
       "<style scoped>\n",
       "    .dataframe tbody tr th:only-of-type {\n",
       "        vertical-align: middle;\n",
       "    }\n",
       "\n",
       "    .dataframe tbody tr th {\n",
       "        vertical-align: top;\n",
       "    }\n",
       "\n",
       "    .dataframe thead th {\n",
       "        text-align: right;\n",
       "    }\n",
       "</style>\n",
       "<table border=\"1\" class=\"dataframe\">\n",
       "  <thead>\n",
       "    <tr style=\"text-align: right;\">\n",
       "      <th></th>\n",
       "      <th>City</th>\n",
       "      <th>Country</th>\n",
       "      <th>Latitude</th>\n",
       "      <th>Longitude</th>\n",
       "      <th>Max Temperature</th>\n",
       "      <th>Humidity</th>\n",
       "      <th>Cloudiness</th>\n",
       "      <th>Wind Speed</th>\n",
       "      <th>Date</th>\n",
       "    </tr>\n",
       "  </thead>\n",
       "  <tbody>\n",
       "    <tr>\n",
       "      <th>0</th>\n",
       "      <td>Bredasdorp</td>\n",
       "      <td>ZA</td>\n",
       "      <td>-34.53</td>\n",
       "      <td>20.04</td>\n",
       "      <td>11.00</td>\n",
       "      <td>93</td>\n",
       "      <td>0</td>\n",
       "      <td>0.90</td>\n",
       "      <td>1595445107</td>\n",
       "    </tr>\n",
       "    <tr>\n",
       "      <th>1</th>\n",
       "      <td>Esperance</td>\n",
       "      <td>AU</td>\n",
       "      <td>-33.87</td>\n",
       "      <td>121.90</td>\n",
       "      <td>13.00</td>\n",
       "      <td>58</td>\n",
       "      <td>40</td>\n",
       "      <td>8.20</td>\n",
       "      <td>1595445107</td>\n",
       "    </tr>\n",
       "    <tr>\n",
       "      <th>2</th>\n",
       "      <td>Busselton</td>\n",
       "      <td>AU</td>\n",
       "      <td>-33.65</td>\n",
       "      <td>115.33</td>\n",
       "      <td>14.44</td>\n",
       "      <td>55</td>\n",
       "      <td>8</td>\n",
       "      <td>9.53</td>\n",
       "      <td>1595445108</td>\n",
       "    </tr>\n",
       "    <tr>\n",
       "      <th>3</th>\n",
       "      <td>Port Lincoln</td>\n",
       "      <td>AU</td>\n",
       "      <td>-34.73</td>\n",
       "      <td>135.87</td>\n",
       "      <td>9.60</td>\n",
       "      <td>81</td>\n",
       "      <td>2</td>\n",
       "      <td>3.94</td>\n",
       "      <td>1595445108</td>\n",
       "    </tr>\n",
       "    <tr>\n",
       "      <th>4</th>\n",
       "      <td>Bluff</td>\n",
       "      <td>NZ</td>\n",
       "      <td>-46.60</td>\n",
       "      <td>168.33</td>\n",
       "      <td>3.89</td>\n",
       "      <td>83</td>\n",
       "      <td>99</td>\n",
       "      <td>1.34</td>\n",
       "      <td>1595445108</td>\n",
       "    </tr>\n",
       "  </tbody>\n",
       "</table>\n",
       "</div>"
      ],
      "text/plain": [
       "           City Country  Latitude  Longitude  Max Temperature  Humidity  \\\n",
       "0    Bredasdorp      ZA    -34.53      20.04            11.00        93   \n",
       "1     Esperance      AU    -33.87     121.90            13.00        58   \n",
       "2     Busselton      AU    -33.65     115.33            14.44        55   \n",
       "3  Port Lincoln      AU    -34.73     135.87             9.60        81   \n",
       "4         Bluff      NZ    -46.60     168.33             3.89        83   \n",
       "\n",
       "   Cloudiness  Wind Speed        Date  \n",
       "0           0        0.90  1595445107  \n",
       "1          40        8.20  1595445107  \n",
       "2           8        9.53  1595445108  \n",
       "3           2        3.94  1595445108  \n",
       "4          99        1.34  1595445108  "
      ]
     },
     "execution_count": 318,
     "metadata": {},
     "output_type": "execute_result"
    }
   ],
   "source": [
    "# Make a new DataFrame equal to the city data to drop all humidity outliers by index.\n",
    "# Passing \"inplace=False\" will make a copy of the city_data DataFrame, which we call \"clean_city_data\".\n",
    "\n",
    "city_data_new = cities_df.drop(humidity_indx,inplace=False)\n",
    "city_data_new.head()\n"
   ]
  },
  {
   "cell_type": "code",
   "execution_count": 319,
   "metadata": {
    "scrolled": true
   },
   "outputs": [
    {
     "data": {
      "text/html": [
       "<div>\n",
       "<style scoped>\n",
       "    .dataframe tbody tr th:only-of-type {\n",
       "        vertical-align: middle;\n",
       "    }\n",
       "\n",
       "    .dataframe tbody tr th {\n",
       "        vertical-align: top;\n",
       "    }\n",
       "\n",
       "    .dataframe thead th {\n",
       "        text-align: right;\n",
       "    }\n",
       "</style>\n",
       "<table border=\"1\" class=\"dataframe\">\n",
       "  <thead>\n",
       "    <tr style=\"text-align: right;\">\n",
       "      <th></th>\n",
       "      <th>Latitude</th>\n",
       "      <th>Longitude</th>\n",
       "      <th>Max Temperature</th>\n",
       "      <th>Humidity</th>\n",
       "      <th>Cloudiness</th>\n",
       "      <th>Wind Speed</th>\n",
       "      <th>Date</th>\n",
       "    </tr>\n",
       "  </thead>\n",
       "  <tbody>\n",
       "    <tr>\n",
       "      <th>count</th>\n",
       "      <td>568.000000</td>\n",
       "      <td>568.000000</td>\n",
       "      <td>568.000000</td>\n",
       "      <td>568.000000</td>\n",
       "      <td>568.000000</td>\n",
       "      <td>568.000000</td>\n",
       "      <td>5.680000e+02</td>\n",
       "    </tr>\n",
       "    <tr>\n",
       "      <th>mean</th>\n",
       "      <td>19.421197</td>\n",
       "      <td>13.703081</td>\n",
       "      <td>21.343838</td>\n",
       "      <td>69.878521</td>\n",
       "      <td>50.216549</td>\n",
       "      <td>3.569525</td>\n",
       "      <td>1.595445e+09</td>\n",
       "    </tr>\n",
       "    <tr>\n",
       "      <th>std</th>\n",
       "      <td>33.140910</td>\n",
       "      <td>93.077652</td>\n",
       "      <td>8.189290</td>\n",
       "      <td>20.457062</td>\n",
       "      <td>39.771135</td>\n",
       "      <td>2.450973</td>\n",
       "      <td>1.777598e+02</td>\n",
       "    </tr>\n",
       "    <tr>\n",
       "      <th>min</th>\n",
       "      <td>-54.800000</td>\n",
       "      <td>-175.200000</td>\n",
       "      <td>-5.000000</td>\n",
       "      <td>3.000000</td>\n",
       "      <td>0.000000</td>\n",
       "      <td>0.050000</td>\n",
       "      <td>1.595444e+09</td>\n",
       "    </tr>\n",
       "    <tr>\n",
       "      <th>25%</th>\n",
       "      <td>-7.857500</td>\n",
       "      <td>-70.267500</td>\n",
       "      <td>15.000000</td>\n",
       "      <td>58.000000</td>\n",
       "      <td>4.750000</td>\n",
       "      <td>1.797500</td>\n",
       "      <td>1.595445e+09</td>\n",
       "    </tr>\n",
       "    <tr>\n",
       "      <th>50%</th>\n",
       "      <td>22.885000</td>\n",
       "      <td>17.965000</td>\n",
       "      <td>22.750000</td>\n",
       "      <td>74.000000</td>\n",
       "      <td>43.000000</td>\n",
       "      <td>3.100000</td>\n",
       "      <td>1.595445e+09</td>\n",
       "    </tr>\n",
       "    <tr>\n",
       "      <th>75%</th>\n",
       "      <td>46.537500</td>\n",
       "      <td>98.535000</td>\n",
       "      <td>27.077500</td>\n",
       "      <td>85.000000</td>\n",
       "      <td>90.000000</td>\n",
       "      <td>4.702500</td>\n",
       "      <td>1.595445e+09</td>\n",
       "    </tr>\n",
       "    <tr>\n",
       "      <th>max</th>\n",
       "      <td>78.220000</td>\n",
       "      <td>179.320000</td>\n",
       "      <td>44.010000</td>\n",
       "      <td>100.000000</td>\n",
       "      <td>100.000000</td>\n",
       "      <td>13.400000</td>\n",
       "      <td>1.595445e+09</td>\n",
       "    </tr>\n",
       "  </tbody>\n",
       "</table>\n",
       "</div>"
      ],
      "text/plain": [
       "         Latitude   Longitude  Max Temperature    Humidity  Cloudiness  \\\n",
       "count  568.000000  568.000000       568.000000  568.000000  568.000000   \n",
       "mean    19.421197   13.703081        21.343838   69.878521   50.216549   \n",
       "std     33.140910   93.077652         8.189290   20.457062   39.771135   \n",
       "min    -54.800000 -175.200000        -5.000000    3.000000    0.000000   \n",
       "25%     -7.857500  -70.267500        15.000000   58.000000    4.750000   \n",
       "50%     22.885000   17.965000        22.750000   74.000000   43.000000   \n",
       "75%     46.537500   98.535000        27.077500   85.000000   90.000000   \n",
       "max     78.220000  179.320000        44.010000  100.000000  100.000000   \n",
       "\n",
       "       Wind Speed          Date  \n",
       "count  568.000000  5.680000e+02  \n",
       "mean     3.569525  1.595445e+09  \n",
       "std      2.450973  1.777598e+02  \n",
       "min      0.050000  1.595444e+09  \n",
       "25%      1.797500  1.595445e+09  \n",
       "50%      3.100000  1.595445e+09  \n",
       "75%      4.702500  1.595445e+09  \n",
       "max     13.400000  1.595445e+09  "
      ]
     },
     "execution_count": 319,
     "metadata": {},
     "output_type": "execute_result"
    }
   ],
   "source": [
    "city_data_new.describe()"
   ]
  },
  {
   "cell_type": "code",
   "execution_count": 320,
   "metadata": {},
   "outputs": [],
   "source": [
    "# Extract relevant fields from the data frame\n",
    "\n",
    "# Export the City_Data into a csv\n",
    "city_data_new.to_csv(\"./output_data/city_data2.csv\",encoding='utf-8', index=False)\n"
   ]
  },
  {
   "cell_type": "markdown",
   "metadata": {},
   "source": [
    "## Plotting the Data\n",
    "* Use proper labeling of the plots using plot titles (including date of analysis) and axes labels.\n",
    "* Save the plotted figures as .pngs."
   ]
  },
  {
   "cell_type": "markdown",
   "metadata": {},
   "source": [
    "## Latitude vs. Temperature Plot"
   ]
  },
  {
   "cell_type": "code",
   "execution_count": 321,
   "metadata": {
    "scrolled": true
   },
   "outputs": [
    {
     "data": {
      "image/png": "[encoded data removed]",
      "text/plain": [
       "<Figure size 432x288 with 1 Axes>"
      ]
     },
     "metadata": {
      "needs_background": "light"
     },
     "output_type": "display_data"
    }
   ],
   "source": [
    "city_data_new.plot(kind='scatter', x='Latitude', y='Max Temperature', c='purple')\n",
    "plt.title('City Latitude vs Max Temperature {})'.format(city_date))\n",
    "plt.xlabel('Latitude')\n",
    "plt.ylabel('Max Temperature (F)')\n",
    "plt.savefig('Images/LatitudeVsTemperature.png')\n"
   ]
  },
  {
   "cell_type": "markdown",
   "metadata": {},
   "source": [
    "## Latitude vs. Humidity Plot"
   ]
  },
  {
   "cell_type": "code",
   "execution_count": 322,
   "metadata": {},
   "outputs": [
    {
     "data": {
      "image/png": "[encoded data removed]",
      "text/plain": [
       "<Figure size 432x288 with 1 Axes>"
      ]
     },
     "metadata": {
      "needs_background": "light"
     },
     "output_type": "display_data"
    }
   ],
   "source": [
    "city_data_new.plot(kind='scatter', x='Latitude', y='Humidity', c='purple')\n",
    "plt.title('City Latitude vs Humidity {})'.format(city_date))\n",
    "plt.xlabel('Latitude')\n",
    "plt.ylabel('Humidity (%)')\n",
    "plt.savefig('Images/LatitudeVsHumidity.png')"
   ]
  },
  {
   "cell_type": "markdown",
   "metadata": {},
   "source": [
    "## Latitude vs. Cloudiness Plot"
   ]
  },
  {
   "cell_type": "code",
   "execution_count": 323,
   "metadata": {},
   "outputs": [
    {
     "data": {
      "image/png": "[encoded data removed]",
      "text/plain": [
       "<Figure size 432x288 with 1 Axes>"
      ]
     },
     "metadata": {
      "needs_background": "light"
     },
     "output_type": "display_data"
    }
   ],
   "source": [
    "city_data_new.plot(kind='scatter', x='Latitude', y='Cloudiness', c='purple')\n",
    "plt.title('City Latitude vs Cloudiness {})'.format(city_date))\n",
    "plt.xlabel('Latitude')\n",
    "plt.ylabel('Cloudiness (%)')\n",
    "plt.savefig('Images/LatitudeVsCloudiness.png')"
   ]
  },
  {
   "cell_type": "markdown",
   "metadata": {},
   "source": [
    "## Latitude vs. Wind Speed Plot"
   ]
  },
  {
   "cell_type": "code",
   "execution_count": 324,
   "metadata": {},
   "outputs": [
    {
     "data": {
      "image/png": "[encoded data removed]",
      "text/plain": [
       "<Figure size 432x288 with 1 Axes>"
      ]
     },
     "metadata": {
      "needs_background": "light"
     },
     "output_type": "display_data"
    }
   ],
   "source": [
    "city_data_new.plot(kind='scatter', x='Latitude', y='Wind Speed', c='purple')\n",
    "plt.title('City Latitude vs Wind Speed {})'.format(city_date))\n",
    "plt.xlabel('Latitude')\n",
    "plt.ylabel('Wind Speed (mph)')\n",
    "plt.savefig('Images/LatitudeVsWind Speed.png')"
   ]
  },
  {
   "cell_type": "markdown",
   "metadata": {},
   "source": [
    "## Linear Regression"
   ]
  },
  {
   "cell_type": "code",
   "execution_count": 345,
   "metadata": {},
   "outputs": [],
   "source": [
    "# OPTIONAL: Create a function to create Linear Regression plots\n",
    "#Linear regression equation Y = a + bX\n",
    "def linear_regression_plot(df,title_name,y_column_name,y_label,file_name,xy):\n",
    "    x_values = df['Latitude']\n",
    "    y_values = df[y_column_name]\n",
    "    (slope,intercept,rvalue,pvalue,stderr) = linregress(x_values,y_values)\n",
    "    regression_values = x_values * slope + intercept\n",
    "    line_equation = 'y = ' + str(round(slope,2)) + 'x + ' + str(round(intercept,2))\n",
    "    plt.scatter(x_values,y_values)\n",
    "    plt.plot(x_values,regression_values,'r-')\n",
    "    plt.annotate(line_equation,xy,fontsize=15,color='red')\n",
    "    plt.xlabel('Latiude')\n",
    "    plt.ylabel(y_label)  \n",
    "    plt.title(title_name)\n",
    "    \n",
    "    print(f'The r-squared is: {rvalue}')\n",
    "    plt.savefig(file_name)"
   ]
  },
  {
   "cell_type": "code",
   "execution_count": 346,
   "metadata": {},
   "outputs": [],
   "source": [
    "# Create Northern and Southern Hemisphere DataFrames\n",
    "northern_hemisphere_df = city_data_new.loc[city_data_new['Latitude'] >= 0]\n",
    "southern_hemisphere_df = city_data_new.loc[city_data_new['Latitude'] < 0]"
   ]
  },
  {
   "cell_type": "markdown",
   "metadata": {},
   "source": [
    "####  Northern Hemisphere - Max Temp vs. Latitude Linear Regression"
   ]
  },
  {
   "cell_type": "code",
   "execution_count": 347,
   "metadata": {},
   "outputs": [
    {
     "name": "stdout",
     "output_type": "stream",
     "text": [
      "The r-squared is: -0.6964200268575903\n"
     ]
    },
    {
     "data": {
      "image/png": "[encoded data removed]",
      "text/plain": [
       "<Figure size 432x288 with 1 Axes>"
      ]
     },
     "metadata": {
      "needs_background": "light"
     },
     "output_type": "display_data"
    }
   ],
   "source": [
    "linear_regression_plot(northern_hemisphere_df,\n",
    "                       'Northern Hemisphere - Max Temp vs. Latitude Linear Regression',\n",
    "                       'Max Temperature',\n",
    "                       'Maximum Temperature (F)',\n",
    "                       'Images/MaxTempVsLatLinRegress_northern.png',\n",
    "                       (40,23))"
   ]
  },
  {
   "cell_type": "markdown",
   "metadata": {},
   "source": [
    "####  Southern Hemisphere - Max Temp vs. Latitude Linear Regression"
   ]
  },
  {
   "cell_type": "code",
   "execution_count": 348,
   "metadata": {
    "scrolled": true
   },
   "outputs": [
    {
     "name": "stdout",
     "output_type": "stream",
     "text": [
      "The r-squared is: 0.8024576808284035\n"
     ]
    },
    {
     "data": {
      "image/png": "[encoded data removed]",
      "text/plain": [
       "<Figure size 432x288 with 1 Axes>"
      ]
     },
     "metadata": {
      "needs_background": "light"
     },
     "output_type": "display_data"
    }
   ],
   "source": [
    "linear_regression_plot(southern_hemisphere_df,\n",
    "                       'Southern Hemisphere - Max Temp vs. Latitude Linear Regression',\n",
    "                       'Max Temperature',\n",
    "                       'Maximum Temperature (F)',\n",
    "                       'Images/MaxTempVsLatLinRegress_southern.png',\n",
    "                       (-30,10))"
   ]
  },
  {
   "cell_type": "markdown",
   "metadata": {},
   "source": [
    "####  Northern Hemisphere - Humidity (%) vs. Latitude Linear Regression"
   ]
  },
  {
   "cell_type": "code",
   "execution_count": 349,
   "metadata": {},
   "outputs": [
    {
     "name": "stdout",
     "output_type": "stream",
     "text": [
      "The r-squared is: 0.024166922563754384\n"
     ]
    },
    {
     "data": {
      "image/png": "[encoded data removed]",
      "text/plain": [
       "<Figure size 432x288 with 1 Axes>"
      ]
     },
     "metadata": {
      "needs_background": "light"
     },
     "output_type": "display_data"
    }
   ],
   "source": [
    "linear_regression_plot(northern_hemisphere_df,\n",
    "                       'Northern Hemisphere - Humidity (%) vs. Latitude Linear Regression',\n",
    "                       'Humidity',\n",
    "                       'Humidity (%) ',\n",
    "                       'Images/HumidityVsLatLinRegress_northern.png',\n",
    "                       (30,75))"
   ]
  },
  {
   "cell_type": "markdown",
   "metadata": {},
   "source": [
    "####  Southern Hemisphere - Humidity (%) vs. Latitude Linear Regression"
   ]
  },
  {
   "cell_type": "code",
   "execution_count": 350,
   "metadata": {},
   "outputs": [
    {
     "name": "stdout",
     "output_type": "stream",
     "text": [
      "The r-squared is: -0.2041448568362117\n"
     ]
    },
    {
     "data": {
      "image/png": "[encoded data removed]",
      "text/plain": [
       "<Figure size 432x288 with 1 Axes>"
      ]
     },
     "metadata": {
      "needs_background": "light"
     },
     "output_type": "display_data"
    }
   ],
   "source": [
    "linear_regression_plot(southern_hemisphere_df,\n",
    "                       'Southern Hemisphere - Humidity (%) vs. Latitude Linear Regression',\n",
    "                       'Humidity',\n",
    "                       'Humidity (%)',\n",
    "                       'Images/HumidityVsLatLinRegress_southern.png',\n",
    "                       (-30,75))"
   ]
  },
  {
   "cell_type": "markdown",
   "metadata": {},
   "source": [
    "####  Northern Hemisphere - Cloudiness (%) vs. Latitude Linear Regression"
   ]
  },
  {
   "cell_type": "code",
   "execution_count": 351,
   "metadata": {},
   "outputs": [
    {
     "name": "stdout",
     "output_type": "stream",
     "text": [
      "The r-squared is: -0.02426695783037493\n"
     ]
    },
    {
     "data": {
      "image/png": "[encoded data removed]",
      "text/plain": [
       "<Figure size 432x288 with 1 Axes>"
      ]
     },
     "metadata": {
      "needs_background": "light"
     },
     "output_type": "display_data"
    }
   ],
   "source": [
    "linear_regression_plot(northern_hemisphere_df,\n",
    "                       'Northern Hemisphere - Cloudiness (%) vs. Latitude Linear Regression',\n",
    "                       'Cloudiness',\n",
    "                       'Cloudiness (%)',\n",
    "                       'Images/CloudinessVsLatLinearRegress_Northern.png',\n",
    "                       (40,60))"
   ]
  },
  {
   "cell_type": "markdown",
   "metadata": {},
   "source": [
    "####  Southern Hemisphere - Cloudiness (%) vs. Latitude Linear Regression"
   ]
  },
  {
   "cell_type": "code",
   "execution_count": 352,
   "metadata": {},
   "outputs": [
    {
     "name": "stdout",
     "output_type": "stream",
     "text": [
      "The r-squared is: -0.1065820913322984\n"
     ]
    },
    {
     "data": {
      "image/png": "[encoded data removed]",
      "text/plain": [
       "<Figure size 432x288 with 1 Axes>"
      ]
     },
     "metadata": {
      "needs_background": "light"
     },
     "output_type": "display_data"
    }
   ],
   "source": [
    "linear_regression_plot(southern_hemisphere_df,\n",
    "                       'Southern Hemisphere - Cloudiness (%) vs. Latitude Linear Regression',\n",
    "                       'Cloudiness',\n",
    "                       'Cloudiness (%)',\n",
    "                       'Images/CloudinessVsLatLinearRegress_southern.png',\n",
    "                       (-40,60))"
   ]
  },
  {
   "cell_type": "markdown",
   "metadata": {},
   "source": [
    "####  Northern Hemisphere - Wind Speed (mph) vs. Latitude Linear Regression"
   ]
  },
  {
   "cell_type": "code",
   "execution_count": 353,
   "metadata": {},
   "outputs": [
    {
     "name": "stdout",
     "output_type": "stream",
     "text": [
      "The r-squared is: 0.022227187513188276\n"
     ]
    },
    {
     "data": {
      "image/png": "[encoded data removed]",
      "text/plain": [
       "<Figure size 432x288 with 1 Axes>"
      ]
     },
     "metadata": {
      "needs_background": "light"
     },
     "output_type": "display_data"
    }
   ],
   "source": [
    "linear_regression_plot(northern_hemisphere_df,\n",
    "                       'Northern Hemisphere - Wind Speed (mph) vs. Latitude Linear Regression',\n",
    "                       'Wind Speed',\n",
    "                       'Wind Speed (mph)',\n",
    "                       'Images/WindSpeedVsLinRegress_northern.png',\n",
    "                       (30,4))"
   ]
  },
  {
   "cell_type": "markdown",
   "metadata": {},
   "source": [
    "####  Southern Hemisphere - Wind Speed (mph) vs. Latitude Linear Regression"
   ]
  },
  {
   "cell_type": "code",
   "execution_count": 354,
   "metadata": {},
   "outputs": [
    {
     "name": "stdout",
     "output_type": "stream",
     "text": [
      "The r-squared is: 0.050733226481780226\n"
     ]
    },
    {
     "data": {
      "image/png": "[encoded data removed]",
      "text/plain": [
       "<Figure size 432x288 with 1 Axes>"
      ]
     },
     "metadata": {
      "needs_background": "light"
     },
     "output_type": "display_data"
    }
   ],
   "source": [
    "linear_regression_plot(southern_hemisphere_df,\n",
    "                       'Southern Hemisphere - Wind Speed (mph) vs. Latitude Linear Regression',\n",
    "                       'Wind Speed',\n",
    "                       'Wind Speed (mph)',\n",
    "                       'Images/WindSpeedVsLinRegress_southern.png',\n",
    "                       (-30,4))"
   ]
  },
  {
   "cell_type": "code",
   "execution_count": null,
   "metadata": {},
   "outputs": [],
   "source": []
  }
 ],
 "metadata": {
  "anaconda-cloud": {},
  "kernel_info": {
   "name": "python3"
  },
  "kernelspec": {
   "display_name": "Python 3",
   "language": "python",
   "name": "python3"
  },
  "language_info": {
   "codemirror_mode": {
    "name": "ipython",
    "version": 3
   },
   "file_extension": ".py",
   "mimetype": "text/x-python",
   "name": "python",
   "nbconvert_exporter": "python",
   "pygments_lexer": "ipython3",
   "version": "3.6.10"
  },
  "latex_envs": {
   "LaTeX_envs_menu_present": true,
   "autoclose": false,
   "autocomplete": true,
   "bibliofile": "biblio.bib",
   "cite_by": "apalike",
   "current_citInitial": 1,
   "eqLabelWithNumbers": true,
   "eqNumInitial": 1,
   "hotkeys": {
    "equation": "Ctrl-E",
    "itemize": "Ctrl-I"
   },
   "labels_anchors": false,
   "latex_user_defs": false,
   "report_style_numbering": false,
   "user_envs_cfg": false
  },
  "nteract": {
   "version": "0.12.3"
  }
 },
 "nbformat": 4,
 "nbformat_minor": 2
}
